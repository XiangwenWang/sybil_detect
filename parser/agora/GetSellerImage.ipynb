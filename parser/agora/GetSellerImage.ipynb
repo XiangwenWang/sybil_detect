{
 "cells": [
  {
   "cell_type": "code",
   "execution_count": 1,
   "metadata": {
    "collapsed": true
   },
   "outputs": [],
   "source": [
    "import pandas as pd"
   ]
  },
  {
   "cell_type": "code",
   "execution_count": 2,
   "metadata": {},
   "outputs": [],
   "source": [
    "df_agora = pd.read_json('json/products.json', orient='index')"
   ]
  },
  {
   "cell_type": "code",
   "execution_count": 6,
   "metadata": {
    "collapsed": true
   },
   "outputs": [],
   "source": [
    "sellers = df_agora.groupby('seller').size()"
   ]
  },
  {
   "cell_type": "code",
   "execution_count": 7,
   "metadata": {},
   "outputs": [
    {
     "data": {
      "text/plain": [
       "3163"
      ]
     },
     "execution_count": 7,
     "metadata": {},
     "output_type": "execute_result"
    }
   ],
   "source": [
    "len(df_agora.seller.unique())"
   ]
  },
  {
   "cell_type": "code",
   "execution_count": 8,
   "metadata": {
    "scrolled": false
   },
   "outputs": [
    {
     "data": {
      "text/plain": [
       "1954168"
      ]
     },
     "execution_count": 8,
     "metadata": {},
     "output_type": "execute_result"
    }
   ],
   "source": [
    "sellers[sellers>1000].sum()"
   ]
  },
  {
   "cell_type": "code",
   "execution_count": 9,
   "metadata": {},
   "outputs": [],
   "source": [
    "df_sellers = df_agora.drop_duplicates(['seller', 'title'])"
   ]
  },
  {
   "cell_type": "code",
   "execution_count": 10,
   "metadata": {},
   "outputs": [],
   "source": [
    "sellers = df_sellers.groupby('seller').size()"
   ]
  },
  {
   "cell_type": "code",
   "execution_count": 11,
   "metadata": {},
   "outputs": [],
   "source": [
    "# sellers = sellers[sellers>20]"
   ]
  },
  {
   "cell_type": "code",
   "execution_count": 12,
   "metadata": {},
   "outputs": [
    {
     "data": {
      "text/plain": [
       "3163"
      ]
     },
     "execution_count": 12,
     "metadata": {},
     "output_type": "execute_result"
    }
   ],
   "source": [
    "len(sellers)"
   ]
  },
  {
   "cell_type": "code",
   "execution_count": 13,
   "metadata": {},
   "outputs": [],
   "source": [
    "df_seller_items = df_sellers[df_sellers.seller.isin(sellers.index)].copy()"
   ]
  },
  {
   "cell_type": "code",
   "execution_count": 14,
   "metadata": {},
   "outputs": [],
   "source": [
    "df_seller_items['image_location'] = map(lambda x: '/media/intel/m2/' +\n",
    "                                        '/liabilities/p/'.join(x.split('/p/')) + '.jpg',\n",
    "                                        df_seller_items.index)"
   ]
  },
  {
   "cell_type": "code",
   "execution_count": 15,
   "metadata": {},
   "outputs": [],
   "source": [
    "image_seller = df_seller_items[['seller', 'image_location']]"
   ]
  },
  {
   "cell_type": "code",
   "execution_count": 16,
   "metadata": {},
   "outputs": [],
   "source": [
    "seller_name = map(lambda x: './imgAgora/' + x + '/', list(image_seller.seller))\n",
    "image_location = list(image_seller.image_location)"
   ]
  },
  {
   "cell_type": "code",
   "execution_count": 17,
   "metadata": {
    "collapsed": true
   },
   "outputs": [],
   "source": [
    "import os\n",
    "from shutil import copy2\n",
    "import shutil"
   ]
  },
  {
   "cell_type": "code",
   "execution_count": 18,
   "metadata": {},
   "outputs": [
    {
     "data": {
      "text/plain": [
       "True"
      ]
     },
     "execution_count": 18,
     "metadata": {},
     "output_type": "execute_result"
    }
   ],
   "source": [
    "os.mkdir('./imgAgora')\n",
    "os.path.isdir('./imgAgora')"
   ]
  },
  {
   "cell_type": "code",
   "execution_count": 19,
   "metadata": {},
   "outputs": [],
   "source": [
    "for i in range(len(seller_name)):\n",
    "    if not os.path.exists(seller_name[i]):\n",
    "        os.makedirs(seller_name[i])\n",
    "    if not os.path.exists(image_location[i]):\n",
    "        continue\n",
    "    copy2(image_location[i], seller_name[i])"
   ]
  },
  {
   "cell_type": "code",
   "execution_count": 24,
   "metadata": {
    "collapsed": true
   },
   "outputs": [],
   "source": [
    "import hashlib\n",
    "def md5sum(filename, blocksize=65536):\n",
    "    hash = hashlib.md5()\n",
    "    with open(filename, \"rb\") as f:\n",
    "        for block in iter(lambda: f.read(blocksize), b\"\"):\n",
    "            hash.update(block)\n",
    "    return hash.hexdigest()"
   ]
  },
  {
   "cell_type": "code",
   "execution_count": 83,
   "metadata": {},
   "outputs": [
    {
     "data": {
      "text/plain": [
       "'4d04e1172f29d914ac68b9b7f2ad1b1f'"
      ]
     },
     "execution_count": 83,
     "metadata": {},
     "output_type": "execute_result"
    }
   ],
   "source": [
    "md5sum(image_location[1])"
   ]
  },
  {
   "cell_type": "code",
   "execution_count": 25,
   "metadata": {
    "collapsed": true
   },
   "outputs": [],
   "source": [
    "seller_image_folder = './Agora_nn20'"
   ]
  },
  {
   "cell_type": "code",
   "execution_count": 26,
   "metadata": {},
   "outputs": [],
   "source": [
    "for seller_folder in set(seller_name):\n",
    "    filenames = map(lambda x: os.path.join(seller_folder, x), os.listdir(seller_folder))\n",
    "    md5value = {}\n",
    "    for filename in filenames:\n",
    "        md5curr = md5sum(filename)\n",
    "        if md5curr in md5value:\n",
    "            os.remove(filename)\n",
    "        else:\n",
    "            md5value[md5curr] = filename"
   ]
  },
  {
   "cell_type": "code",
   "execution_count": 20,
   "metadata": {
    "collapsed": true
   },
   "outputs": [],
   "source": [
    "from PIL import Image\n",
    "for seller_folder in set(seller_name):\n",
    "    filenames = map(lambda x: os.path.join(seller_folder, x), os.listdir(seller_folder))\n",
    "    for filename in filenames:\n",
    "        try:\n",
    "            img = Image.open(filename)\n",
    "            img.load()\n",
    "            img.close()\n",
    "        except IOError:\n",
    "            os.remove(filename)"
   ]
  },
  {
   "cell_type": "code",
   "execution_count": 24,
   "metadata": {},
   "outputs": [
    {
     "name": "stdout",
     "output_type": "stream",
     "text": [
      "77\n"
     ]
    }
   ],
   "source": [
    "i=0\n",
    "for seller_folder in set(seller_name):\n",
    "    if not os.path.exists(seller_folder):\n",
    "        continue\n",
    "    if not len(os.listdir(seller_folder))>=80:\n",
    "        shutil.rmtree(seller_folder)\n",
    "        # print seller_folder.split('/')[-2], len(os.listdir(seller_folder))\n",
    "    else:\n",
    "        i+=1\n",
    "        # print seller_folder\n",
    "print i"
   ]
  },
  {
   "cell_type": "markdown",
   "metadata": {
    "scrolled": false
   },
   "source": [
    "### seller_name"
   ]
  },
  {
   "cell_type": "code",
   "execution_count": 138,
   "metadata": {},
   "outputs": [],
   "source": [
    "import shutil\n",
    "image_folder = '../Agora_nn'\n",
    "test_folder = '../Agora_test'\n",
    "for seller_folder in os.listdir(image_folder):\n",
    "    seller_tar = os.path.join(test_folder, seller_folder)\n",
    "    os.mkdir(seller_tar)\n",
    "    seller_folder = os.path.join(image_folder, seller_folder)\n",
    "    filenames = map(lambda x: os.path.join(seller_folder, x), os.listdir(seller_folder))\n",
    "    random.shuffle(filenames)\n",
    "    move_files = filenames[:len(filenames)/10]\n",
    "    for filename in move_files:\n",
    "        copy2(filename, seller_tar)\n",
    "        os.remove(filename)"
   ]
  },
  {
   "cell_type": "code",
   "execution_count": 37,
   "metadata": {},
   "outputs": [],
   "source": [
    "import random\n",
    "from PIL import Image"
   ]
  },
  {
   "cell_type": "code",
   "execution_count": 19,
   "metadata": {},
   "outputs": [
    {
     "name": "stdout",
     "output_type": "stream",
     "text": [
      "189\n"
     ]
    }
   ],
   "source": [
    "i=0\n",
    "seller_name = [os.path.join('Agora_nn20_full', x) for x in os.listdir('Agora_nn20_full')]\n",
    "for seller_folder in set(seller_name):\n",
    "    if not os.path.exists(seller_folder):\n",
    "        continue\n",
    "    if not len(os.listdir(seller_folder))>=50:\n",
    "        shutil.rmtree(seller_folder)\n",
    "        # print seller_folder.split('/')[-2], len(os.listdir(seller_folder))\n",
    "    else:\n",
    "        i+=1\n",
    "        # print seller_folder\n",
    "print i"
   ]
  },
  {
   "cell_type": "code",
   "execution_count": 18,
   "metadata": {},
   "outputs": [],
   "source": [
    "import os\n",
    "folder = 'Agora_nn20_full'\n",
    "for seller_name in os.listdir(folder):\n",
    "    clean_name = ''.join(x for x in seller_name if x.isalnum())\n",
    "    if seller_name == clean_name:\n",
    "        continue\n",
    "    seller_folder = os.path.join(folder, seller_name)\n",
    "    clean_folder = os.path.join(folder, clean_name)\n",
    "    os.system('mv ' + seller_folder + ' ' + clean_folder)"
   ]
  },
  {
   "cell_type": "code",
   "execution_count": null,
   "metadata": {
    "collapsed": true
   },
   "outputs": [],
   "source": []
  }
 ],
 "metadata": {
  "kernelspec": {
   "display_name": "Python 3",
   "language": "python",
   "name": "python3"
  },
  "language_info": {
   "codemirror_mode": {
    "name": "ipython",
    "version": 3
   },
   "file_extension": ".py",
   "mimetype": "text/x-python",
   "name": "python",
   "nbconvert_exporter": "python",
   "pygments_lexer": "ipython3",
   "version": "3.7.6"
  }
 },
 "nbformat": 4,
 "nbformat_minor": 1
}
