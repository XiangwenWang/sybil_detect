{
 "cells": [
  {
   "cell_type": "code",
   "execution_count": 7,
   "metadata": {},
   "outputs": [],
   "source": [
    "import os\n",
    "import json\n",
    "import re\n",
    "\n",
    "def get_text(text):\n",
    "    text = re.sub('\\n+', ' ', text.strip())\n",
    "    text = re.sub('\\r+', ' ', text.strip())\n",
    "    text = ' '.join(map(lambda x: x.strip(), text.strip().split('\\r\\n')))\n",
    "    clean_text, start = '', 0\n",
    "    while text:\n",
    "        text = text.split('<', 1)\n",
    "        clean_text += text[0]\n",
    "        if len(text) < 2:\n",
    "            break\n",
    "        tmp = text[1].split('>', 1)\n",
    "        if len(tmp) < 2:\n",
    "            break\n",
    "        text = tmp[1]\n",
    "    clean_text = unicode(clean_text, errors='ignore')\n",
    "    clean_text = re.sub(' +', ' ', clean_text)\n",
    "    return clean_text.strip()\n",
    "\n",
    "\n",
    "def get_cat(cathtml):\n",
    "    return cathtml.split('<a', 1)[1].split('>', 1)[1].split('</a>')[0] \n",
    "\n",
    "\n",
    "def get_sellerinfo(sellerinfo):\n",
    "    pass\n",
    "    \n",
    "\n",
    "def parse_item(filename):\n",
    "    with open(filename, 'r') as fp:\n",
    "        content = open(filename, 'r').read()\n",
    "    \n",
    "    itemID = filename.split('/')[-1]\n",
    "    date = filename.split('/')[-3]\n",
    "    if content.find('loginpage-table') >= 0:\n",
    "        return None\n",
    "    content = content.split('<title>', 1)\n",
    "    if len(content) > 1:\n",
    "        content = content[1]\n",
    "    else:\n",
    "        return None\n",
    "    title, content = content.split('</title>', 1)\n",
    "\n",
    "    content = content.split('<i class=\"fa fa-btc\"></i>', 1)\n",
    "    if len(content) < 2:\n",
    "        return None\n",
    "    content = content[1]\n",
    "    btc_price, content = content.split('USD', 1)\n",
    "    btc_price = float(btc_price)\n",
    "\n",
    "    content = content.split('<div class=\"topnav-element\">', 1)\n",
    "    if len(content) < 2:\n",
    "        return None\n",
    "    content = content[1]\n",
    "    \n",
    "    content = content.split('<div class=\"topnav-divider-element\">')\n",
    "    cat = get_cat(content[0])\n",
    "    subcat = get_cat(content[1]) if len(content) > 2 else None\n",
    "    subsubcat = get_cat(content[2]) if len(content) > 3 else None\n",
    "    \n",
    "    content = content[-1]\n",
    "    content = content.split('<div id=\"single-product\" class=\"nofirstmargin\">')\n",
    "    if len(content) < 2:\n",
    "        return None\n",
    "    else:\n",
    "        content = content[1]\n",
    "    \n",
    "    content = content.split('<div class=\"embedded-feedback-list\">')\n",
    "    text = content[0]\n",
    "    feedback = content[1] if len(content) > 1 else ''\n",
    "    text_seller = text.split('Brought to you by:<br/><a class=\"gen-user-link\"')\n",
    "    if len(text_seller) == 1:\n",
    "        text = get_text(text_seller[0])\n",
    "        noseller_info = True\n",
    "    else:\n",
    "        text, sellerinfo = text_seller\n",
    "        text = get_text(text)\n",
    "        noseller_info = False\n",
    "\n",
    "        # print content\n",
    "    if noseller_info:\n",
    "        pass\n",
    "    elif len(sellerinfo.split('>', 1)) < 2:\n",
    "        noseller_info = True\n",
    "    elif len(sellerinfo.split('>', 1)[1].split('<', 1)) < 2:\n",
    "        noseller_info = True\n",
    "    else:\n",
    "        noseller_info = False\n",
    "        seller, sellerinfo = sellerinfo.split('>', 1)[1].split('<', 1)\n",
    "        sellerinfo = sellerinfo.split('<i class=\"fa fa-bar-chart-o\">', 1)\n",
    "        if len(sellerinfo) > 1:\n",
    "            sellerinfo = sellerinfo[1].split('</i>', 1)[1]\n",
    "            sellerinfo = sellerinfo.split('</span>',1)\n",
    "            if len(sellerinfo) > 1:\n",
    "                ratinginfo, sellerinfo = sellerinfo\n",
    "                ratinginfo = ratinginfo.split('&nbsp;', 1)[-1].split(',')\n",
    "                if len(ratinginfo) > 1:\n",
    "                    sellerrating, dealmade = ratinginfo\n",
    "                    sellerrating = float(sellerrating.split('/', 1)[0].strip('~'))\n",
    "                    dealmade = dealmade.strip().strip(' deals')\n",
    "                else:\n",
    "                    dealmade =ratinginfo[-1].strip().strip(' deals')\n",
    "                    sellerrating = None\n",
    "            else:\n",
    "                sellerinfo = sellerinfo[-1]\n",
    "                sellerrating = None\n",
    "                dealmade = None\n",
    "        else:\n",
    "            sellerinfo = sellerinfo[-1]\n",
    "            sellerrating = None\n",
    "            dealmade = None\n",
    "        sellerinfo = sellerinfo.split('From:', 1)\n",
    "        if len(sellerinfo) < 2:\n",
    "            sellerlocation = None\n",
    "            sellerinfo = sellerinfo[-1]\n",
    "        elif len(sellerinfo[1].split('>', 1)) < 2:\n",
    "            sellerlocation = None\n",
    "            sellerinfo = sellerinfo[-1]\n",
    "        elif len(sellerinfo[1].split('>', 1)[1].split('<', 1)) < 2:\n",
    "            sellerlocation = None\n",
    "            sellerinfo = sellerinfo[-1]\n",
    "        else:\n",
    "            sellerlocation, sellerinfo = sellerinfo[1].split('>', 1)[1].split('<', 1)\n",
    "            sellerlocation = sellerlocation.strip()\n",
    "        sellerinfo = sellerinfo.split('To: ', 1)\n",
    "        if len(sellerinfo) < 2:\n",
    "            sellto = None\n",
    "            sellerinfo = sellerinfo[-1]\n",
    "        elif len(sellerinfo[1].split('<', 1)) < 2:\n",
    "            sellto = None\n",
    "            sellerinfo = sellerinfo[-1]\n",
    "        else:\n",
    "            sellto, sellerinfo = sellerinfo[1].split('<', 1)\n",
    "            sellto = sellto.strip()\n",
    "\n",
    "        price_in_btc_tmp = sellerinfo.split('<div class=\"product-page-price\">')\n",
    "        if len(price_in_btc_tmp) < 2:\n",
    "            price_in_btc = float(content[0].split('<div style=\"text-align: left;\">', 1)[1].split(' BTC</div>', 1)[0])\n",
    "        else:\n",
    "            price_in_btc = float(price_in_btc_tmp[1].split('<', 1)[0].strip('BTC'))\n",
    "        price_in_usd = price_in_btc * btc_price\n",
    "        feedbacknum = feedback.count('<span class=\"gen-user-link\">')\n",
    "    \n",
    "    if noseller_info:\n",
    "        seller, sellerrating, dealmade = None, None, None\n",
    "        sellerlocation, sellto = None, None\n",
    "        price_in_btc, price_in_usd, feedbacknum = None, None, None\n",
    "\n",
    "    iteminfo = {}\n",
    "    iteminfo['title'] = title\n",
    "    iteminfo['itemID'] = itemID\n",
    "    iteminfo['btc_price'] = btc_price\n",
    "    iteminfo['cat'] = cat\n",
    "    iteminfo['subcat'] = subcat\n",
    "    iteminfo['subsubcat'] = subsubcat\n",
    "    iteminfo['description'] = text\n",
    "    iteminfo['seller'] = seller\n",
    "    iteminfo['seller_rating'] = sellerrating\n",
    "    iteminfo['seller_dealmade'] = dealmade\n",
    "    iteminfo['seller_location'] = sellerlocation\n",
    "    iteminfo['sell_to'] = sellto\n",
    "    iteminfo['price_in_btc'] = price_in_btc\n",
    "    iteminfo['price_in_usd'] = price_in_usd\n",
    "    iteminfo['feedbacks_count'] = feedbacknum\n",
    "    iteminfo['date'] = date\n",
    "\n",
    "    return iteminfo"
   ]
  },
  {
   "cell_type": "code",
   "execution_count": 8,
   "metadata": {
    "scrolled": false
   },
   "outputs": [],
   "source": [
    "root_path = '/media/intel/m2/agora'\n",
    "item = {}\n",
    "\n",
    "for path in os.listdir(root_path):\n",
    "    date_path = os.path.join(root_path, path)\n",
    "    if os.path.isdir(date_path):\n",
    "        webpage_f = os.path.join(date_path, 'p')\n",
    "        if os.path.isdir(webpage_f):\n",
    "            filenames = [os.path.join(webpage_f, wp) for wp in os.listdir(webpage_f)]\n",
    "            for filename in filenames:\n",
    "                try:\n",
    "                    item[filename] = parse_item(filename)\n",
    "                except:\n",
    "                    print filename\n",
    "\n",
    "with open('agora.json', 'w') as fp:\n",
    "    json.dump(item, fp)"
   ]
  },
  {
   "cell_type": "code",
   "execution_count": 78,
   "metadata": {
    "scrolled": true
   },
   "outputs": [
    {
     "data": {
      "text/plain": [
       "{'btc_price': 223.33,\n",
       " 'cat': 'Services',\n",
       " 'date': '2015-04-20',\n",
       " 'description': u'UNIQUE TUTORIAL - Amazon carding tutorial 0.02238839 BTC Amazon carding tutorialOver The Last Few Years Amazon Has Been Getting Harder &amp; Harder To CardThey Review Each Account When They Place There 1ST Order Therefore Add Something To Your Cart.This is how you beat them guys.This ebook is unique on the market !',\n",
       " 'feedbacks_count': 0,\n",
       " 'itemID': 'bDsqzE028v',\n",
       " 'price_in_btc': 0,\n",
       " 'price_in_usd': 0,\n",
       " 'sell_to': '',\n",
       " 'seller': '',\n",
       " 'seller_dealmade': 0,\n",
       " 'seller_location': '',\n",
       " 'seller_rating': 0,\n",
       " 'subcat': 'Hacking',\n",
       " 'subsubcat': '',\n",
       " 'title': 'UNIQUE TUTORIAL - Amazon carding tutorial'}"
      ]
     },
     "execution_count": 78,
     "metadata": {},
     "output_type": "execute_result"
    }
   ],
   "source": [
    "parse_item('/media/intel/m2/agora/2015-04-20/p/bDsqzE028v')"
   ]
  },
  {
   "cell_type": "code",
   "execution_count": null,
   "metadata": {},
   "outputs": [],
   "source": []
  },
  {
   "cell_type": "code",
   "execution_count": 1,
   "metadata": {
    "collapsed": true
   },
   "outputs": [],
   "source": [
    "import pandas as pd\n",
    "import re\n",
    "import os\n",
    "import json\n",
    "import time\n",
    "from shutil import copy2\n",
    "import shutil\n",
    "from PIL import Image\n",
    "import hashlib"
   ]
  },
  {
   "cell_type": "code",
   "execution_count": 2,
   "metadata": {},
   "outputs": [
    {
     "data": {
      "text/plain": [
       "2468424"
      ]
     },
     "execution_count": 2,
     "metadata": {},
     "output_type": "execute_result"
    }
   ],
   "source": [
    "data = pd.read_json('agora.json', orient='index')\n",
    "\n",
    "len(data)"
   ]
  },
  {
   "cell_type": "code",
   "execution_count": 3,
   "metadata": {
    "scrolled": true
   },
   "outputs": [
    {
     "data": {
      "text/plain": [
       "2385965"
      ]
     },
     "execution_count": 3,
     "metadata": {},
     "output_type": "execute_result"
    }
   ],
   "source": [
    "data  = data[data.seller.notnull()]\n",
    "\n",
    "len(data)"
   ]
  },
  {
   "cell_type": "code",
   "execution_count": 4,
   "metadata": {},
   "outputs": [
    {
     "data": {
      "text/plain": [
       "3162"
      ]
     },
     "execution_count": 4,
     "metadata": {},
     "output_type": "execute_result"
    }
   ],
   "source": [
    "len(data.seller.unique())"
   ]
  },
  {
   "cell_type": "code",
   "execution_count": 5,
   "metadata": {
    "collapsed": true
   },
   "outputs": [],
   "source": [
    "root_dir = '/media/intel/m2/imgs/Agora/'\n",
    "try:\n",
    "    os.makedirs(root_dir)\n",
    "except:\n",
    "    pass"
   ]
  },
  {
   "cell_type": "code",
   "execution_count": 6,
   "metadata": {},
   "outputs": [],
   "source": [
    "f = lambda x: os.path.join(root_dir, x)"
   ]
  },
  {
   "cell_type": "code",
   "execution_count": 7,
   "metadata": {
    "collapsed": true
   },
   "outputs": [],
   "source": [
    "data['seller_path'] = data.seller.apply(f)"
   ]
  },
  {
   "cell_type": "code",
   "execution_count": 8,
   "metadata": {
    "scrolled": true
   },
   "outputs": [
    {
     "data": {
      "text/plain": [
       "/media/intel/m2/agora/2014-01-01/p/ABnFuNDr6M       /media/intel/m2/imgs/Agora/passman\n",
       "/media/intel/m2/agora/2014-01-01/p/AGs4ikK7bm    /media/intel/m2/imgs/Agora/FakeMarket\n",
       "/media/intel/m2/agora/2014-01-01/p/ALDcahdCtn       /media/intel/m2/imgs/Agora/drzheng\n",
       "/media/intel/m2/agora/2014-01-01/p/ANMSzpx4Kp    /media/intel/m2/imgs/Agora/FakeMarket\n",
       "/media/intel/m2/agora/2014-01-01/p/AV1FYoj5md        /media/intel/m2/imgs/Agora/RepAAA\n",
       "Name: seller_path, dtype: object"
      ]
     },
     "execution_count": 8,
     "metadata": {},
     "output_type": "execute_result"
    }
   ],
   "source": [
    "data.head().seller_path"
   ]
  },
  {
   "cell_type": "code",
   "execution_count": 10,
   "metadata": {},
   "outputs": [
    {
     "name": "stdout",
     "output_type": "stream",
     "text": [
      "76399\n"
     ]
    }
   ],
   "source": [
    "valid_item_img = 0\n",
    "for index, row in data.iterrows():\n",
    "    img_path = index.replace('/p/', '/liabilities/p/') + '.jpg'\n",
    "    imgName = os.path.join(row.seller_path, img_path.split('/')[-1])\n",
    "    if os.path.isfile(imgName):\n",
    "        continue\n",
    "    if not os.path.isfile(img_path):\n",
    "        continue\n",
    "    try:\n",
    "        img = Image.open(img_path)\n",
    "        img.load()\n",
    "        img.close()\n",
    "    except IOError:\n",
    "        img.close()\n",
    "        continue        \n",
    "    if not os.path.isdir(row.seller_path):\n",
    "        os.makedirs(row.seller_path)\n",
    "    copy2(img_path, imgName)\n",
    "    valid_item_img += 1\n",
    "print valid_item_img"
   ]
  },
  {
   "cell_type": "code",
   "execution_count": null,
   "metadata": {
    "collapsed": true
   },
   "outputs": [],
   "source": [
    "data = data.drop_duplicates(['seller', 'title', 'itemID'])"
   ]
  },
  {
   "cell_type": "code",
   "execution_count": null,
   "metadata": {
    "collapsed": true
   },
   "outputs": [],
   "source": []
  },
  {
   "cell_type": "code",
   "execution_count": 2,
   "metadata": {
    "collapsed": true
   },
   "outputs": [],
   "source": [
    "import pandas as pd\n",
    "import re\n",
    "import os\n",
    "import json\n",
    "import time\n",
    "from shutil import copy2\n",
    "import shutil\n",
    "from PIL import Image\n",
    "import hashlib"
   ]
  },
  {
   "cell_type": "code",
   "execution_count": 3,
   "metadata": {},
   "outputs": [
    {
     "data": {
      "text/plain": [
       "2468424"
      ]
     },
     "execution_count": 3,
     "metadata": {},
     "output_type": "execute_result"
    }
   ],
   "source": [
    "data = pd.read_json('agora.json', orient='index')\n",
    "\n",
    "len(data)"
   ]
  },
  {
   "cell_type": "code",
   "execution_count": 4,
   "metadata": {},
   "outputs": [],
   "source": [
    "data = data[data.cat.notnull()]"
   ]
  },
  {
   "cell_type": "code",
   "execution_count": 5,
   "metadata": {},
   "outputs": [
    {
     "data": {
      "text/plain": [
       "array([u'Information', u'Forgeries', u'Drugs', u'Counterfeits',\n",
       "       u'Drug paraphernalia', u'Services', u'Data', u'Weapons', u'Jewelry',\n",
       "       u'Listings', u'Tobacco', u'Electronics', u'Other', u'Info/eBooks',\n",
       "       u'Chemicals'], dtype=object)"
      ]
     },
     "execution_count": 5,
     "metadata": {},
     "output_type": "execute_result"
    }
   ],
   "source": [
    "data.cat.unique()"
   ]
  },
  {
   "cell_type": "code",
   "execution_count": 6,
   "metadata": {
    "collapsed": true
   },
   "outputs": [],
   "source": [
    "root_dir = '/media/intel/m2/catAgora/'\n",
    "try:\n",
    "    os.mkdir(root_dir)\n",
    "except:\n",
    "    pass"
   ]
  },
  {
   "cell_type": "code",
   "execution_count": 7,
   "metadata": {
    "collapsed": true
   },
   "outputs": [],
   "source": [
    "f = lambda x: os.path.join(root_dir, re.sub('[\\W_]+', '00', x.lower()))"
   ]
  },
  {
   "cell_type": "code",
   "execution_count": 8,
   "metadata": {
    "collapsed": true
   },
   "outputs": [],
   "source": [
    "data['cat_path'] = data.cat.apply(f)"
   ]
  },
  {
   "cell_type": "code",
   "execution_count": 9,
   "metadata": {
    "collapsed": true
   },
   "outputs": [],
   "source": [
    "valid_item_img = set()\n",
    "for index, row in data.iterrows():\n",
    "    if (row['cat'], row.itemID) not in valid_item_img:\n",
    "        img_path = index.replace('/p/', '/liabilities/p/') + '.jpg'\n",
    "        if not os.path.isfile(img_path):\n",
    "            continue\n",
    "        try:\n",
    "            img = Image.open(img_path)\n",
    "            img.load()\n",
    "            img.close()\n",
    "        except IOError:\n",
    "            img.close()\n",
    "            continue        \n",
    "        if not os.path.isdir(row.cat_path):\n",
    "            os.makedirs(row.cat_path)\n",
    "        copy2(img_path, row.cat_path)\n",
    "        valid_item_img.add((row['cat'], row.itemID))"
   ]
  },
  {
   "cell_type": "code",
   "execution_count": null,
   "metadata": {
    "collapsed": true
   },
   "outputs": [],
   "source": []
  },
  {
   "cell_type": "code",
   "execution_count": 3,
   "metadata": {
    "collapsed": true
   },
   "outputs": [],
   "source": [
    "import os"
   ]
  },
  {
   "cell_type": "code",
   "execution_count": 1,
   "metadata": {
    "collapsed": true
   },
   "outputs": [],
   "source": [
    "import hashlib\n",
    "def md5sum(filename, blocksize=65536):\n",
    "    hash = hashlib.md5()\n",
    "    with open(filename, \"rb\") as f:\n",
    "        for block in iter(lambda: f.read(blocksize), b\"\"):\n",
    "            hash.update(block)\n",
    "    return hash.hexdigest()"
   ]
  },
  {
   "cell_type": "code",
   "execution_count": 4,
   "metadata": {},
   "outputs": [],
   "source": [
    "root_dir = '/media/intel/m2/imgAgoradedup'\n",
    "seller_name = [os.path.join(root_dir, x) for x in os.listdir(root_dir)]\n",
    "for seller_folder in set(seller_name):\n",
    "    filenames = map(lambda x: os.path.join(seller_folder, x), os.listdir(seller_folder))\n",
    "    md5value = {}\n",
    "    for filename in filenames:\n",
    "        md5curr = md5sum(filename)\n",
    "        if md5curr in md5value:\n",
    "            os.remove(filename)\n",
    "        else:\n",
    "            md5value[md5curr] = filename"
   ]
  },
  {
   "cell_type": "code",
   "execution_count": 1,
   "metadata": {
    "collapsed": true
   },
   "outputs": [],
   "source": [
    "import os\n",
    "import hashlib\n",
    "def md5sum(filename, blocksize=65536):\n",
    "    hash = hashlib.md5()\n",
    "    with open(filename, \"rb\") as f:\n",
    "        for block in iter(lambda: f.read(blocksize), b\"\"):\n",
    "            hash.update(block)\n",
    "    return hash.hexdigest()\n",
    "root_dir = '/media/intel/m2/catAgora'\n",
    "seller_name = [os.path.join(root_dir, x) for x in os.listdir(root_dir)]\n",
    "for seller_folder in set(seller_name):\n",
    "    filenames = map(lambda x: os.path.join(seller_folder, x), os.listdir(seller_folder))\n",
    "    md5value = {}\n",
    "    for filename in filenames:\n",
    "        md5curr = md5sum(filename)\n",
    "        if md5curr in md5value:\n",
    "            os.remove(filename)\n",
    "        else:\n",
    "            md5value[md5curr] = filename"
   ]
  },
  {
   "cell_type": "code",
   "execution_count": 1,
   "metadata": {
    "collapsed": true
   },
   "outputs": [],
   "source": [
    "import pandas as pd\n",
    "import re\n",
    "import os\n",
    "import json\n",
    "import time\n",
    "from shutil import copy2\n",
    "import shutil\n",
    "from PIL import Image\n",
    "import hashlib"
   ]
  },
  {
   "cell_type": "code",
   "execution_count": 2,
   "metadata": {},
   "outputs": [
    {
     "data": {
      "text/plain": [
       "2468424"
      ]
     },
     "execution_count": 2,
     "metadata": {},
     "output_type": "execute_result"
    }
   ],
   "source": [
    "data = pd.read_json('agora.json', orient='index')\n",
    "\n",
    "len(data)"
   ]
  },
  {
   "cell_type": "code",
   "execution_count": 3,
   "metadata": {
    "collapsed": true
   },
   "outputs": [],
   "source": [
    "data2 = data[data.cat=='Drugs']"
   ]
  },
  {
   "cell_type": "code",
   "execution_count": 4,
   "metadata": {},
   "outputs": [],
   "source": [
    "data2 = data2[data2.subcat.notnull()]"
   ]
  },
  {
   "cell_type": "code",
   "execution_count": 5,
   "metadata": {},
   "outputs": [
    {
     "data": {
      "text/plain": [
       "Cannabis           416551\n",
       "Ecstasy            216896\n",
       "Prescription       193159\n",
       "Stimulants         189590\n",
       "Psychedelics       152206\n",
       "Benzos             133004\n",
       "Opioids            110021\n",
       "Steroids           101002\n",
       "RCs                 72088\n",
       "Dissociatives       29359\n",
       "Other               22578\n",
       "Weight loss         12063\n",
       "Barbiturates         1706\n",
       "Disassociatives       338\n",
       "Name: subcat, dtype: int64"
      ]
     },
     "execution_count": 5,
     "metadata": {},
     "output_type": "execute_result"
    }
   ],
   "source": [
    "data2.subcat.value_counts()"
   ]
  },
  {
   "cell_type": "code",
   "execution_count": 6,
   "metadata": {
    "collapsed": true
   },
   "outputs": [],
   "source": [
    "root_dir = '/media/intel/m2/subcatAgora/'\n",
    "try:\n",
    "    os.mkdir(root_dir)\n",
    "except:\n",
    "    pass"
   ]
  },
  {
   "cell_type": "code",
   "execution_count": 7,
   "metadata": {
    "collapsed": true
   },
   "outputs": [],
   "source": [
    "f = lambda x: os.path.join(root_dir, re.sub('[\\W_]+', '00', x.lower()))"
   ]
  },
  {
   "cell_type": "code",
   "execution_count": 8,
   "metadata": {
    "collapsed": true
   },
   "outputs": [],
   "source": [
    "data2['subcat_path'] = data2.subcat.apply(f)"
   ]
  },
  {
   "cell_type": "code",
   "execution_count": 9,
   "metadata": {},
   "outputs": [],
   "source": [
    "valid_item_img = set()\n",
    "for index, row in data2.iterrows():\n",
    "    if (row['subcat'], row.itemID) not in valid_item_img:\n",
    "        img_path = index.replace('/p/', '/liabilities/p/') + '.jpg'\n",
    "        if not os.path.isfile(img_path):\n",
    "            continue\n",
    "        try:\n",
    "            img = Image.open(img_path)\n",
    "            img.load()\n",
    "            img.close()\n",
    "        except IOError:\n",
    "            img.close()\n",
    "            continue        \n",
    "        if not os.path.isdir(row.subcat_path):\n",
    "            os.makedirs(row.subcat_path)\n",
    "        copy2(img_path, row.subcat_path)\n",
    "        valid_item_img.add((row['subcat'], row.itemID))"
   ]
  },
  {
   "cell_type": "code",
   "execution_count": 10,
   "metadata": {
    "collapsed": true
   },
   "outputs": [],
   "source": [
    "import os\n",
    "import hashlib\n",
    "def md5sum(filename, blocksize=65536):\n",
    "    hash = hashlib.md5()\n",
    "    with open(filename, \"rb\") as f:\n",
    "        for block in iter(lambda: f.read(blocksize), b\"\"):\n",
    "            hash.update(block)\n",
    "    return hash.hexdigest()\n",
    "root_dir = '/media/intel/m2/subcatAgora'\n",
    "seller_name = [os.path.join(root_dir, x) for x in os.listdir(root_dir)]\n",
    "for seller_folder in set(seller_name):\n",
    "    filenames = map(lambda x: os.path.join(seller_folder, x), os.listdir(seller_folder))\n",
    "    md5value = {}\n",
    "    for filename in filenames:\n",
    "        md5curr = md5sum(filename)\n",
    "        if md5curr in md5value:\n",
    "            os.remove(filename)\n",
    "        else:\n",
    "            md5value[md5curr] = filename"
   ]
  },
  {
   "cell_type": "code",
   "execution_count": null,
   "metadata": {
    "collapsed": true
   },
   "outputs": [],
   "source": []
  }
 ],
 "metadata": {
  "kernelspec": {
   "display_name": "Python 3",
   "language": "python",
   "name": "python3"
  },
  "language_info": {
   "codemirror_mode": {
    "name": "ipython",
    "version": 3
   },
   "file_extension": ".py",
   "mimetype": "text/x-python",
   "name": "python",
   "nbconvert_exporter": "python",
   "pygments_lexer": "ipython3",
   "version": "3.7.6"
  }
 },
 "nbformat": 4,
 "nbformat_minor": 1
}
