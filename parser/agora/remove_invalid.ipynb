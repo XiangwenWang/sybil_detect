{
 "cells": [
  {
   "cell_type": "code",
   "execution_count": 12,
   "metadata": {
    "collapsed": true
   },
   "outputs": [],
   "source": [
    "import os\n",
    "from PIL import Image"
   ]
  },
  {
   "cell_type": "code",
   "execution_count": 13,
   "metadata": {
    "collapsed": true
   },
   "outputs": [],
   "source": [
    "image_folder = 'Divided_nn40_full/validation'\n",
    "seller_name = [os.path.join(image_folder, x) for x in os.listdir(image_folder)]"
   ]
  },
  {
   "cell_type": "code",
   "execution_count": 16,
   "metadata": {
    "collapsed": true
   },
   "outputs": [],
   "source": [
    "deleted_image_ct = 0\n",
    "valid_image_ct = 0\n",
    "for seller_folder in seller_name:\n",
    "    filenames = map(lambda x: os.path.join(seller_folder, x), os.listdir(seller_folder))\n",
    "    for filename in filenames:\n",
    "        try:\n",
    "            img = Image.open(filename)\n",
    "            img.load()\n",
    "            img.close()\n",
    "            valid_image_ct += 1\n",
    "        except IOError:\n",
    "            os.remove(filename)\n",
    "            deleted_image_ct += 1"
   ]
  },
  {
   "cell_type": "code",
   "execution_count": 17,
   "metadata": {
    "collapsed": false
   },
   "outputs": [
    {
     "name": "stdout",
     "output_type": "stream",
     "text": [
      "deleted image: 0, valid image: 6227\n"
     ]
    }
   ],
   "source": [
    "print \"deleted image: %d, valid image: %d\" % (deleted_image_ct, valid_image_ct)"
   ]
  },
  {
   "cell_type": "code",
   "execution_count": null,
   "metadata": {
    "collapsed": true
   },
   "outputs": [],
   "source": []
  },
  {
   "cell_type": "code",
   "execution_count": 1,
   "metadata": {
    "collapsed": true
   },
   "outputs": [],
   "source": [
    "import os"
   ]
  },
  {
   "cell_type": "code",
   "execution_count": 2,
   "metadata": {
    "collapsed": true
   },
   "outputs": [],
   "source": [
    "root_path = 'imgBlackBank'\n",
    "seller = [os.path.join(root_path, folder) for folder in os.listdir(root_path)]"
   ]
  },
  {
   "cell_type": "code",
   "execution_count": 6,
   "metadata": {
    "collapsed": false
   },
   "outputs": [],
   "source": [
    "s_10 = [s for s in seller if len(os.listdir(s)) >= 10]\n",
    "s_20 = [s for s in seller if len(os.listdir(s)) >= 20]"
   ]
  },
  {
   "cell_type": "code",
   "execution_count": 8,
   "metadata": {
    "collapsed": false
   },
   "outputs": [
    {
     "data": {
      "text/plain": [
       "(238, 113)"
      ]
     },
     "execution_count": 8,
     "metadata": {},
     "output_type": "execute_result"
    }
   ],
   "source": [
    "len(s_10), len(s_20)"
   ]
  },
  {
   "cell_type": "code",
   "execution_count": null,
   "metadata": {
    "collapsed": true
   },
   "outputs": [],
   "source": []
  }
 ],
 "metadata": {
  "kernelspec": {
   "display_name": "Python 2",
   "language": "python",
   "name": "python2"
  },
  "language_info": {
   "codemirror_mode": {
    "name": "ipython",
    "version": 2
   },
   "file_extension": ".py",
   "mimetype": "text/x-python",
   "name": "python",
   "nbconvert_exporter": "python",
   "pygments_lexer": "ipython2",
   "version": "2.7.11"
  }
 },
 "nbformat": 4,
 "nbformat_minor": 0
}
