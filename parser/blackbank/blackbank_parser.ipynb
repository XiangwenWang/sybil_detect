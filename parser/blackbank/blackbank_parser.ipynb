{
 "cells": [
  {
   "cell_type": "code",
   "execution_count": 1,
   "metadata": {
    "collapsed": true
   },
   "outputs": [],
   "source": [
    "import os\n",
    "import re\n",
    "import json\n",
    "import pandas as pd\n",
    "import time"
   ]
  },
  {
   "cell_type": "code",
   "execution_count": 2,
   "metadata": {
    "collapsed": true
   },
   "outputs": [],
   "source": [
    "def get_text(text):\n",
    "    text = re.sub('\\n+', ' ', text.strip())\n",
    "    text = re.sub('\\r+', ' ', text.strip())\n",
    "    text = ' '.join(map(lambda x: x.strip(), text.strip().split('\\r\\n')))\n",
    "    clean_text, start = '', 0\n",
    "    while text:\n",
    "        text = text.split('<', 1)\n",
    "        clean_text += text[0]\n",
    "        if len(text) < 2:\n",
    "            break\n",
    "        tmp = text[1].split('>', 1)\n",
    "        if len(tmp) < 2:\n",
    "            break\n",
    "        text = tmp[1]\n",
    "    clean_text = unicode(clean_text, errors='ignore')\n",
    "    clean_text = re.sub(' +', ' ', clean_text)\n",
    "    return clean_text.strip()"
   ]
  },
  {
   "cell_type": "code",
   "execution_count": null,
   "metadata": {
    "collapsed": true
   },
   "outputs": [],
   "source": []
  },
  {
   "cell_type": "code",
   "execution_count": 3,
   "metadata": {},
   "outputs": [],
   "source": [
    "def parse_item(filename):\n",
    "    # filename = '/media/intel/m2/blackbankmarket/2014-12-06/item/1793'\n",
    "    if not os.path.isfile(filename):\n",
    "        return None\n",
    "    \n",
    "    with open(filename) as fp:\n",
    "        content = fp.read()\n",
    "\n",
    "    main_conttent_pattern = re.compile('<a class=dark href=\"/market/home\">Market</a>(.*?)' +\n",
    "                                       '<div class=\"heavy tiny inline pad5 light-gray-color\">', re.DOTALL)\n",
    "    main_content = re.findall(main_conttent_pattern, content)\n",
    "    \n",
    "    if not main_content:\n",
    "        return None\n",
    "    else:\n",
    "        main_content = main_content[0]\n",
    "\n",
    "    cat = re.findall('<a class=dark href=\"/cat/.*?\">(.*?)</a>', main_content)[0]\n",
    "    # print main_content\n",
    "    \n",
    "    img_tmp = re.findall('img src=\"(.*?)\" title=\"(.*?)\" alt=', main_content)\n",
    "    if not img_tmp:\n",
    "        img_tmp = re.findall('img src=\"(.*?)\" title=(.*?) style=', main_content)\n",
    "    image_path, title = img_tmp[0]\n",
    "\n",
    "    price_pattern = re.compile(r'>Price:.*?>([\\.0-9]*?) BTC', re.DOTALL)\n",
    "\n",
    "    price_btc = re.findall(price_pattern, main_content)[0]\n",
    "\n",
    "    ships_from = re.findall('>Ships from:<.*>(.*?)<', main_content)\n",
    "    if ships_from:\n",
    "        ships_from = get_text(ships_from[0])\n",
    "    else:\n",
    "        ships_from = None\n",
    "\n",
    "    seller_pattern = re.compile('>Vendor:<.*?>.*?<a href=\"/vendor/(.*?)\">', re.DOTALL)\n",
    "    seller = re.findall(seller_pattern, main_content)[0]\n",
    "    seller_email = re.findall('>Contact:<.*> (.*?@.*?)<', main_content)\n",
    "    if seller_email:\n",
    "        seller_email = get_text(seller_email[0])\n",
    "    else:\n",
    "        seller_email = None\n",
    "\n",
    "    text_pattern = re.compile('>Description<.*?<div class=\"small item-description pad5 round\".*?>'\n",
    "                              +'(.*)>Item Rating:<.*<a href=\"/market/home\\?navi=shop', re.DOTALL)\n",
    "    raw_text = re.findall(text_pattern, main_content)\n",
    "    text = get_text(raw_text[0])\n",
    "    \n",
    "    iteminfo = {}\n",
    "    iteminfo['title'] = title\n",
    "    iteminfo['itemID'] = filename\n",
    "    iteminfo['btc_price'] = price_btc\n",
    "    iteminfo['description'] = text\n",
    "    iteminfo['seller'] = seller\n",
    "    iteminfo['seller_email'] = seller_email\n",
    "    iteminfo['seller_location'] = ships_from\n",
    "    iteminfo['date'] = filename.split('/')[-3]\n",
    "    iteminfo['img'] = image_path\n",
    "    \n",
    "    return iteminfo"
   ]
  },
  {
   "cell_type": "code",
   "execution_count": 7,
   "metadata": {
    "collapsed": true
   },
   "outputs": [],
   "source": [
    "root_path = '/media/intel/m2/blackbankmarket/'\n",
    "item = {}\n",
    "error_count = 0"
   ]
  },
  {
   "cell_type": "code",
   "execution_count": 8,
   "metadata": {
    "collapsed": true
   },
   "outputs": [],
   "source": [
    "def analyze(path):\n",
    "    # print path\n",
    "    global error_count\n",
    "    webpage_folder_path = os.path.join(path, 'item')\n",
    "    if not os.path.isdir(webpage_folder_path):\n",
    "        return None\n",
    "    filenames = map(lambda wp: os.path.join(path, 'item', wp),\n",
    "                    os.listdir(webpage_folder_path))\n",
    "    for filename in filenames:\n",
    "        try:\n",
    "            parse_res = parse_item(filename)\n",
    "            if parse_res:\n",
    "                item[filename] = parse_res               \n",
    "        except:\n",
    "            print filename\n",
    "            error_count += 1\n",
    "            if error_count == 100:\n",
    "                break\n",
    "    return 1"
   ]
  },
  {
   "cell_type": "code",
   "execution_count": 9,
   "metadata": {
    "collapsed": true
   },
   "outputs": [],
   "source": [
    "paths = [os.path.join(root_path, x) for x in os.listdir(root_path)]\n",
    "paths = sorted(paths)"
   ]
  },
  {
   "cell_type": "code",
   "execution_count": 10,
   "metadata": {},
   "outputs": [
    {
     "name": "stdout",
     "output_type": "stream",
     "text": [
      "73.2687330246\n"
     ]
    }
   ],
   "source": [
    "time0 = time.time()\n",
    "for path in paths:\n",
    "    if os.path.isdir(path):\n",
    "        analyze(path)\n",
    "        if error_count == 100:\n",
    "            break\n",
    "print time.time() - time0"
   ]
  },
  {
   "cell_type": "code",
   "execution_count": 11,
   "metadata": {},
   "outputs": [
    {
     "name": "stdout",
     "output_type": "stream",
     "text": [
      "92368\n"
     ]
    }
   ],
   "source": [
    "print len(item)\n",
    "with open('blackbank.json', 'w') as fp:\n",
    "    json.dump(item, fp)"
   ]
  },
  {
   "cell_type": "code",
   "execution_count": null,
   "metadata": {
    "collapsed": true
   },
   "outputs": [],
   "source": []
  },
  {
   "cell_type": "code",
   "execution_count": null,
   "metadata": {
    "collapsed": true
   },
   "outputs": [],
   "source": []
  },
  {
   "cell_type": "code",
   "execution_count": null,
   "metadata": {
    "collapsed": true
   },
   "outputs": [],
   "source": []
  },
  {
   "cell_type": "code",
   "execution_count": null,
   "metadata": {
    "collapsed": true
   },
   "outputs": [],
   "source": []
  },
  {
   "cell_type": "code",
   "execution_count": 12,
   "metadata": {},
   "outputs": [],
   "source": [
    "import pandas as pd\n",
    "import re\n",
    "import os\n",
    "import json\n",
    "import time\n",
    "from shutil import copy2\n",
    "import shutil\n",
    "import hashlib"
   ]
  },
  {
   "cell_type": "code",
   "execution_count": 13,
   "metadata": {
    "scrolled": true
   },
   "outputs": [
    {
     "data": {
      "text/plain": [
       "92368"
      ]
     },
     "execution_count": 13,
     "metadata": {},
     "output_type": "execute_result"
    }
   ],
   "source": [
    "data = pd.read_json('blackbank.json', orient='index')\n",
    "\n",
    "len(data)"
   ]
  },
  {
   "cell_type": "code",
   "execution_count": 14,
   "metadata": {},
   "outputs": [
    {
     "data": {
      "text/plain": [
       "834"
      ]
     },
     "execution_count": 14,
     "metadata": {},
     "output_type": "execute_result"
    }
   ],
   "source": [
    "len(data.seller.unique())"
   ]
  },
  {
   "cell_type": "code",
   "execution_count": 15,
   "metadata": {},
   "outputs": [
    {
     "data": {
      "text/plain": [
       "10918"
      ]
     },
     "execution_count": 15,
     "metadata": {},
     "output_type": "execute_result"
    }
   ],
   "source": [
    "df_unique = data.drop_duplicates(['seller', 'title'])\n",
    "\n",
    "len(df_unique)"
   ]
  },
  {
   "cell_type": "code",
   "execution_count": 16,
   "metadata": {},
   "outputs": [],
   "source": [
    "df_unique = df_unique[df_unique.img.notnull()]\n",
    "df_unique = df_unique.sort_index()"
   ]
  },
  {
   "cell_type": "code",
   "execution_count": 17,
   "metadata": {},
   "outputs": [],
   "source": [
    "root_path = '/media/intel/m2/blackbankmarket/'\n",
    "df_unique['image_location'] = root_path + df_unique.date.astype(str) + df_unique.img"
   ]
  },
  {
   "cell_type": "code",
   "execution_count": 18,
   "metadata": {
    "collapsed": true
   },
   "outputs": [],
   "source": [
    "seller_name_list = list(df_unique.seller)\n",
    "\n",
    "image_location = list(df_unique.image_location)\n",
    "\n",
    "itemID = [hashlib.md5(x).hexdigest() for x in df_unique.index.astype(str)]"
   ]
  },
  {
   "cell_type": "code",
   "execution_count": 19,
   "metadata": {},
   "outputs": [],
   "source": [
    "target_path = '/media/intel/m2/imgBlackBank'\n",
    "try:\n",
    "    os.mkdir(target_path)\n",
    "except:\n",
    "    pass\n",
    "seller_paths = [os.path.join(target_path, re.sub('[\\W_]+', '00', x)) for x in seller_name_list]"
   ]
  },
  {
   "cell_type": "code",
   "execution_count": 20,
   "metadata": {},
   "outputs": [],
   "source": [
    "def image_seller_path(itemID, image_location, seller_path):\n",
    "    if not os.path.isfile(image_location):\n",
    "        return 0\n",
    "    copy2(image_location, os.path.join(seller_path, itemID))\n",
    "    return 1"
   ]
  },
  {
   "cell_type": "code",
   "execution_count": 21,
   "metadata": {},
   "outputs": [
    {
     "name": "stdout",
     "output_type": "stream",
     "text": [
      "8.05149507523 8115\n"
     ]
    }
   ],
   "source": [
    "time0 = time.time()\n",
    "uniq_item_count = len(itemID)\n",
    "img_count = 0\n",
    "for i in xrange(uniq_item_count):\n",
    "    if not os.path.isdir(seller_paths[i]):\n",
    "        os.makedirs(seller_paths[i])\n",
    "    img_count += image_seller_path(itemID[i], image_location[i],\n",
    "                                       seller_paths[i])\n",
    "print time.time() - time0, img_count"
   ]
  },
  {
   "cell_type": "code",
   "execution_count": 22,
   "metadata": {},
   "outputs": [],
   "source": [
    "for seller_path in set(seller_paths):\n",
    "    if os.path.isdir(seller_path):\n",
    "        if not len(os.listdir(seller_path)):\n",
    "            os.rmdir(seller_path)"
   ]
  }
 ],
 "metadata": {
  "kernelspec": {
   "display_name": "Python 3",
   "language": "python",
   "name": "python3"
  },
  "language_info": {
   "codemirror_mode": {
    "name": "ipython",
    "version": 3
   },
   "file_extension": ".py",
   "mimetype": "text/x-python",
   "name": "python",
   "nbconvert_exporter": "python",
   "pygments_lexer": "ipython3",
   "version": "3.7.6"
  }
 },
 "nbformat": 4,
 "nbformat_minor": 1
}
