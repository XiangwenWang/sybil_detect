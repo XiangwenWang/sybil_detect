{
 "cells": [
  {
   "cell_type": "code",
   "execution_count": 162,
   "metadata": {
    "collapsed": true
   },
   "outputs": [],
   "source": [
    "import re\n",
    "import os\n",
    "import json\n",
    "import time\n",
    "\n",
    "def get_text(text):\n",
    "    text = re.sub('\\n+', ' ', text.strip())\n",
    "    text = re.sub('\\r+', ' ', text.strip())\n",
    "    text = ' '.join(map(lambda x: x.strip(), text.strip().split('\\r\\n')))\n",
    "    clean_text, start = '', 0\n",
    "    while text:\n",
    "        text = text.split('<', 1)\n",
    "        clean_text += text[0]\n",
    "        if len(text) < 2:\n",
    "            break\n",
    "        tmp = text[1].split('>', 1)\n",
    "        if len(tmp) < 2:\n",
    "            break\n",
    "        text = tmp[1]\n",
    "    clean_text = re.sub(' +', ' ', clean_text)\n",
    "    clean_text = unicode(clean_text, errors='ignore')\n",
    "    return clean_text\n",
    "\n",
    "\n",
    "def parse_item(filename):\n",
    "    filetype = filename.split('/')[-1]\n",
    "    date = ''.join(filename.split('/evolution/')[-1].split('/')[0].split('-'))\n",
    "    \n",
    "    if filetype == 'feedback' or filetype == 'return-policy':\n",
    "        itemID = date + filename.split('/')[-2]\n",
    "    else:\n",
    "        itemID = date + filename.split('/')[-1]\n",
    "\n",
    "    # filename='/media/intel/m2/evolution/2014-06-04/listing/12030'\n",
    "    with open(filename) as fp:\n",
    "        content = fp.read()\n",
    "\n",
    "    if (not content) or content.find('Error in exception handler') >= 0:\n",
    "        return None\n",
    "    \n",
    "    title, content = content.split('<title>')[1].split('</title>')\n",
    "    title = get_text(title)\n",
    "    if title == 'Evolution :: Login':\n",
    "        return None\n",
    "    \n",
    "    tmp = content.split('>Home</a></li>    <li><a')\n",
    "    if len(tmp) == 1:\n",
    "        return None\n",
    "    cat, content = tmp[1].split('>', 1)[1].split('<', 1)\n",
    "    \n",
    "    tmp = content.split('<a class=\"thumbnail\" href=\"', 1)\n",
    "    if len(tmp) == 1:\n",
    "        return None\n",
    "    tmp = tmp[1].split('\"', 1)\n",
    "    if len(tmp) == 1:\n",
    "        return None\n",
    "    img_path, content = tmp\n",
    "    img_path = None if 'none' in img_path.split('/') else img_path.split('/evolution/')[-1]\n",
    "    if img_path is not None:\n",
    "        img_path = img_path.split('.onion/')[-1]\n",
    "\n",
    "    if date > '20140809':\n",
    "        tmp = content.split('<p>By <a')\n",
    "        if len(tmp) == 1:\n",
    "            return None\n",
    "        seller, content = tmp[1].split('>', 1)[1].split('</a>', 1)\n",
    "    else:\n",
    "        tmp = content.split('<div class=\"seller-info text-muted\">Seller:')\n",
    "        if len(tmp) == 1:\n",
    "            return None\n",
    "        seller, content = tmp[1].split('</a>', 1)\n",
    "    seller = get_text(seller)\n",
    "    \n",
    "    tmp = content.split('>Level', 1)\n",
    "    if len(tmp) == 1:\n",
    "        item_sold = None\n",
    "    else:\n",
    "        item_sold, content = tmp[1].split('(', 1)[1].split(')', 1)\n",
    "        item_sold = int(item_sold)\n",
    "    \n",
    "    tmp = content.split('>BTC ', 1)\n",
    "    if len(tmp) == 1:\n",
    "        price_btc = None\n",
    "    else:\n",
    "        price_btc, content = tmp[1].split('<', 1)\n",
    "        price_btc = float(price_btc)\n",
    "    \n",
    "    if date > '20140809':\n",
    "        tmp = content.split('>Ships From<')\n",
    "        if len(tmp) == 1:\n",
    "            ship_from = None\n",
    "        else:\n",
    "            ship_from, content = tmp[1].split('<', 1)[1].split('<', 1)\n",
    "            # print ship_from\n",
    "            ship_from = get_text('<' + ship_from)\n",
    "    \n",
    "    if len(content.split('>Description<', 1)) > 1:\n",
    "        tmp = content.split('>Description<', 1)[1].split('>', 1)[1].split('</div>', 1)\n",
    "        if len(tmp) == 1:\n",
    "            raw_text = tmp[0]\n",
    "        else:\n",
    "            raw_text, content = tmp\n",
    "        # return raw_text\n",
    "        tmp = raw_text.split('>Ships To<')\n",
    "        if len(tmp) == 1:\n",
    "            text = get_text(tmp[0])\n",
    "        else:\n",
    "            text = get_text(tmp[0] + '>')\n",
    "        text = text.strip()\n",
    "    else:\n",
    "        text = None\n",
    "    \n",
    "    if date <= '20140809':\n",
    "        tmp = content.split('>Ships From<')\n",
    "        if len(tmp) == 1:\n",
    "            ship_from = None\n",
    "        else:\n",
    "            ship_from, content = tmp[1].split('<', 1)[1].split('<', 1)\n",
    "            # print ship_from\n",
    "            ship_from = get_text('<' + ship_from)\n",
    "        \n",
    "    iteminfo = {}\n",
    "    iteminfo['title'] = title\n",
    "    iteminfo['itemID'] = itemID\n",
    "    iteminfo['btc_price'] = price_btc\n",
    "    iteminfo['cat'] = cat\n",
    "    iteminfo['description'] = text\n",
    "    iteminfo['seller'] = seller\n",
    "    iteminfo['seller_dealmade'] = item_sold\n",
    "    iteminfo['seller_location'] = ship_from\n",
    "    iteminfo['date'] = date\n",
    "    iteminfo['img'] = img_path\n",
    "    \n",
    "    return iteminfo"
   ]
  },
  {
   "cell_type": "code",
   "execution_count": 163,
   "metadata": {
    "collapsed": true
   },
   "outputs": [],
   "source": [
    "root_path = '/media/intel/m2/evolution/'\n",
    "item = {}\n",
    "error_count = 0"
   ]
  },
  {
   "cell_type": "code",
   "execution_count": 164,
   "metadata": {
    "collapsed": true
   },
   "outputs": [],
   "source": [
    "def analyze(path):\n",
    "    # print path\n",
    "    global error_count\n",
    "    webpage_folder_path = os.path.join(path, 'listing')\n",
    "    if not os.path.isdir(webpage_folder_path):\n",
    "        return None\n",
    "    filenames = map(lambda wp: os.path.join(path, 'listing', wp),\n",
    "                    os.listdir(webpage_folder_path))\n",
    "    for filename in filenames:\n",
    "        try:\n",
    "            if not os.path.isfile(filename):\n",
    "                filename = os.path.join(filename, 'feedback')\n",
    "                if not os.path.isfile(filename):\n",
    "                    filename = filename.replace('feedback', 'return-policy')\n",
    "            parse_res = parse_item(filename)\n",
    "            if parse_res is not None:\n",
    "                item[filename] = parse_res               \n",
    "        except:\n",
    "            print filename\n",
    "            error_count += 1\n",
    "            if error_count == 10000:\n",
    "                break\n",
    "    return 1"
   ]
  },
  {
   "cell_type": "code",
   "execution_count": 165,
   "metadata": {
    "collapsed": true
   },
   "outputs": [],
   "source": [
    "paths = [os.path.join(root_path, x) for x in os.listdir(root_path)]\n",
    "paths = sorted(paths)"
   ]
  },
  {
   "cell_type": "code",
   "execution_count": 166,
   "metadata": {
    "scrolled": true
   },
   "outputs": [
    {
     "name": "stdout",
     "output_type": "stream",
     "text": [
      "499.543804884\n"
     ]
    }
   ],
   "source": [
    "time0 = time.time()\n",
    "for path in paths:\n",
    "    if os.path.isdir(path):\n",
    "        analyze(path)\n",
    "        if error_count == 10000:\n",
    "            break\n",
    "print time.time() - time0"
   ]
  },
  {
   "cell_type": "code",
   "execution_count": 167,
   "metadata": {},
   "outputs": [
    {
     "data": {
      "text/plain": [
       "904037"
      ]
     },
     "execution_count": 167,
     "metadata": {},
     "output_type": "execute_result"
    }
   ],
   "source": [
    "len(item)"
   ]
  },
  {
   "cell_type": "code",
   "execution_count": 168,
   "metadata": {},
   "outputs": [],
   "source": [
    "with open('evolution.json', 'w') as fp:\n",
    "    json.dump(item, fp)"
   ]
  },
  {
   "cell_type": "code",
   "execution_count": null,
   "metadata": {
    "collapsed": true
   },
   "outputs": [],
   "source": []
  },
  {
   "cell_type": "code",
   "execution_count": null,
   "metadata": {
    "collapsed": true
   },
   "outputs": [],
   "source": []
  },
  {
   "cell_type": "code",
   "execution_count": 117,
   "metadata": {
    "scrolled": false
   },
   "outputs": [
    {
     "data": {
      "text/plain": [
       "{'btc_price': 0.7661,\n",
       " 'cat': 'Drugs',\n",
       " 'date': '20141004',\n",
       " 'description': 'PROMOTION PRICE only until 01.11.14! Very strong and absolutley clean! This is the *Alice in wonderland* print. This print is exactly same strong as the loved *Octopus* print. These blotters got two drops of LSD, because of that they are very strong. If you are not sure take only 1/4 or 1/2.',\n",
       " 'img': 'http://k5zq47j6wd3wdvjq.onion/static/image/111069/gymEnLZQbFHkejk9lD2YTnM396cZnaPB/0/large.jpg',\n",
       " 'itemID': '2014100441764',\n",
       " 'seller': 'McDrugs',\n",
       " 'seller_dealmade': 24,\n",
       " 'seller_location': 'Germany',\n",
       " 'title': 'Evolution :: 50x 300&micro;g - LSD Blotter *Alice in wonderland* DoubleDip'}"
      ]
     },
     "execution_count": 117,
     "metadata": {},
     "output_type": "execute_result"
    }
   ],
   "source": [
    "parse_item('/media/intel/m2/evolution/2014-10-04/listing/41764')"
   ]
  },
  {
   "cell_type": "code",
   "execution_count": 118,
   "metadata": {},
   "outputs": [
    {
     "data": {
      "text/plain": [
       "{'btc_price': 0.8283,\n",
       " 'cat': 'Drugs',\n",
       " 'date': '20140728',\n",
       " 'description': '25 grams of pure white PB-22 with shipping from US and a better price than the competition! :-) Fast super-stealth-shipping of a high quality pure material! ALL compounds are measured OVERWEIGHT. :-) (Please message if you desire a larger or smaller weight, from 5 to 250 grams) We&#039;re back! We were a long standing vendor on BMR with an excellent reputation. Check out our feedback here: http://loow5bjd6qjbwi5z.onion/index.php?p=user&amp;id=313230 We still use the same public PGP key so you needn&#039;t worry that we&#039;re not the real oxymorpheus. It is our intent to provide the best quality, the best service and the best price. We will beat any other US domestic vendors prices on ANY of our items here at evolution. We are offering Priority shipping for this bulk amounts because of the greater need to have tracking for an expensive shipment. Our stealth is the BEST. Nothing is more important',\n",
       " 'img': 'http://k5zq47j6wd3wdvjq.onion/static/image/16257/ZGLrGzIYZMLxJk8p1T05OPE5MXSrpzTt/0/large.jpg',\n",
       " 'itemID': '201407289767',\n",
       " 'seller': 'oxymorpheus',\n",
       " 'seller_dealmade': 48,\n",
       " 'seller_location': None,\n",
       " 'title': 'Evolution :: Listing :: 25 g PB-22 ~ Pure White ~ Shipping from US ~'}"
      ]
     },
     "execution_count": 118,
     "metadata": {},
     "output_type": "execute_result"
    }
   ],
   "source": [
    "parse_item('/media/intel/m2/evolution/2014-07-28/listing/9767')"
   ]
  },
  {
   "cell_type": "code",
   "execution_count": 119,
   "metadata": {},
   "outputs": [
    {
     "data": {
      "text/plain": [
       "{'btc_price': 0.0581,\n",
       " 'cat': 'Counterfeits',\n",
       " 'date': '20140726',\n",
       " 'description': None,\n",
       " 'img': 'http://k5zq47j6wd3wdvjq.onion/static/image/42127/fd8s0PgFGZGnBsIymx83YlhLV3nhGhOH/0/large.jpg',\n",
       " 'itemID': '2014072622354',\n",
       " 'seller': 'MagicHat',\n",
       " 'seller_dealmade': 59,\n",
       " 'seller_location': None,\n",
       " 'title': 'Evolution :: Listing :: RayBan Aviator Sunglasses'}"
      ]
     },
     "execution_count": 119,
     "metadata": {},
     "output_type": "execute_result"
    }
   ],
   "source": [
    "parse_item('/media/intel/m2/evolution/2014-07-26/listing/22354/feedback')"
   ]
  },
  {
   "cell_type": "code",
   "execution_count": 120,
   "metadata": {},
   "outputs": [
    {
     "data": {
      "text/plain": [
       "{'btc_price': 0.4313,\n",
       " 'cat': 'Drugs',\n",
       " 'date': '20140624',\n",
       " 'description': '100 MG&#039;s for a good price. Due to the small size we are able to ship 100 in one regular envelope! Before ordering please read our profile and make sure you take the following rules into account: - By ordering you agree to all our terms written in our profile. - Format your address correct or we cancel your order. - No shipping to USA, Australia, New Zealand and Scandinavia under any circumstances! - We don&#039;t use escrow under any circumstances, sorry.',\n",
       " 'img': 'http://k5zq47j6wd3wdvjq.onion/static/image/17538/m1VPnswgrecboz2ZwQBJSCY3BpJFpw6q/0/large.jpg',\n",
       " 'itemID': '201406247678',\n",
       " 'seller': 'AlbertHeijn',\n",
       " 'seller_dealmade': 575,\n",
       " 'seller_location': 'Netherlands',\n",
       " 'title': 'Evolution :: Listing :: 100 x - Herbalife&#039;s (100MG) - Free Shipping'}"
      ]
     },
     "execution_count": 120,
     "metadata": {},
     "output_type": "execute_result"
    }
   ],
   "source": [
    "parse_item('/media/intel/m2/evolution/2014-06-24/listing/7678')"
   ]
  },
  {
   "cell_type": "code",
   "execution_count": 115,
   "metadata": {
    "collapsed": true
   },
   "outputs": [],
   "source": [
    "parse_item('/media/intel/m2/evolution/2014-01-21/listing/69')"
   ]
  },
  {
   "cell_type": "code",
   "execution_count": 113,
   "metadata": {
    "scrolled": false
   },
   "outputs": [
    {
     "data": {
      "text/plain": [
       "{'btc_price': 0.0256,\n",
       " 'cat': 'Weapons',\n",
       " 'date': '20150110',\n",
       " 'description': None,\n",
       " 'img': 'http://k5zq47j6wd3wdvjq.onion/static/image/17841/IbWvrOBYkETvJ5CfKKursx9TAMDhlGRx/0/large.jpg',\n",
       " 'itemID': '2015011071712',\n",
       " 'seller': 'OzDomestic',\n",
       " 'seller_dealmade': 134,\n",
       " 'seller_location': 'Australia',\n",
       " 'title': 'Evolution :: Pepper Spray Lighter - FE &amp; Free Post'}"
      ]
     },
     "execution_count": 113,
     "metadata": {},
     "output_type": "execute_result"
    }
   ],
   "source": [
    "parse_item('/media/intel/m2/evolution/2015-01-10/listing/71712/feedback')"
   ]
  },
  {
   "cell_type": "code",
   "execution_count": 114,
   "metadata": {
    "scrolled": true
   },
   "outputs": [
    {
     "data": {
      "text/plain": [
       "{'btc_price': 0.0168,\n",
       " 'cat': 'Fraud Related',\n",
       " 'date': '20140121',\n",
       " 'description': 'A mix selection of CC with NON AVS BINS prices range from $14 depending on lookups !!! For fast reply times contact me on ICQ: 655581841 Thanks',\n",
       " 'img': 'http://k5zq47j6wd3wdvjq.onion/image/77/EdaZpl2LH9jDd1RIjXA21ttrDXyy1PRd/0/large',\n",
       " 'itemID': '2014012115',\n",
       " 'seller': 'SuperRyanSmith33',\n",
       " 'seller_dealmade': None,\n",
       " 'seller_location': 'Worldwide',\n",
       " 'title': 'Evolution :: Listing :: WORLD MIX NON AVS CC (FRESH 90%)'}"
      ]
     },
     "execution_count": 114,
     "metadata": {},
     "output_type": "execute_result"
    }
   ],
   "source": [
    "parse_item('/media/intel/m2/evolution/2014-01-21/listing/15')"
   ]
  },
  {
   "cell_type": "code",
   "execution_count": null,
   "metadata": {
    "collapsed": true
   },
   "outputs": [],
   "source": []
  },
  {
   "cell_type": "code",
   "execution_count": null,
   "metadata": {
    "collapsed": true
   },
   "outputs": [],
   "source": []
  },
  {
   "cell_type": "code",
   "execution_count": null,
   "metadata": {
    "collapsed": true
   },
   "outputs": [],
   "source": []
  },
  {
   "cell_type": "code",
   "execution_count": 1,
   "metadata": {
    "collapsed": true
   },
   "outputs": [],
   "source": [
    "import pandas as pd\n",
    "import re\n",
    "import os\n",
    "import json\n",
    "import time\n",
    "from shutil import copy2\n",
    "import shutil"
   ]
  },
  {
   "cell_type": "code",
   "execution_count": 2,
   "metadata": {
    "scrolled": true
   },
   "outputs": [
    {
     "data": {
      "text/plain": [
       "904037"
      ]
     },
     "execution_count": 2,
     "metadata": {},
     "output_type": "execute_result"
    }
   ],
   "source": [
    "data = pd.read_json('evolution.json', orient='index')\n",
    "\n",
    "len(data)"
   ]
  },
  {
   "cell_type": "code",
   "execution_count": 3,
   "metadata": {
    "scrolled": true
   },
   "outputs": [
    {
     "data": {
      "text/plain": [
       "4197"
      ]
     },
     "execution_count": 3,
     "metadata": {},
     "output_type": "execute_result"
    }
   ],
   "source": [
    "len(data.seller.unique())"
   ]
  },
  {
   "cell_type": "code",
   "execution_count": 3,
   "metadata": {},
   "outputs": [
    {
     "data": {
      "text/plain": [
       "88497"
      ]
     },
     "execution_count": 3,
     "metadata": {},
     "output_type": "execute_result"
    }
   ],
   "source": [
    "df_unique = data.drop_duplicates(['seller', 'title'])\n",
    "\n",
    "df_unique = df_unique[df_unique.img.notnull()]\n",
    "df_unique = df_unique.sort_index()\n",
    "df_unique['itemID'] = df_unique.itemID.astype(int)\n",
    "df_unique = df_unique.drop_duplicates('itemID')\n",
    "\n",
    "len(df_unique)"
   ]
  },
  {
   "cell_type": "code",
   "execution_count": 4,
   "metadata": {},
   "outputs": [],
   "source": [
    "f_date = lambda x: x[:4] + '-' + x[4:6] + '-' + x[6:]\n",
    "df_unique['date'] = df_unique.date.astype(str).apply(f_date)"
   ]
  },
  {
   "cell_type": "code",
   "execution_count": 5,
   "metadata": {
    "collapsed": true
   },
   "outputs": [],
   "source": [
    "root_path = '/media/intel/m2/evolution/'"
   ]
  },
  {
   "cell_type": "code",
   "execution_count": 6,
   "metadata": {
    "collapsed": true
   },
   "outputs": [],
   "source": [
    "df_unique['image_location'] = root_path + df_unique.date + '/' + df_unique.img\n",
    "f_path = lambda x: '/'.join(x.split('/')[:-2])\n",
    "df_unique['image_location'] = df_unique.image_location.apply(f_path)"
   ]
  },
  {
   "cell_type": "code",
   "execution_count": 18,
   "metadata": {
    "collapsed": true
   },
   "outputs": [],
   "source": [
    "seller_name_list = list(df_unique.seller)\n",
    "\n",
    "image_location = list(df_unique.image_location)\n",
    "\n",
    "itemID = list(df_unique.itemID.astype(str))"
   ]
  },
  {
   "cell_type": "code",
   "execution_count": 19,
   "metadata": {},
   "outputs": [],
   "source": [
    "# import collections\n",
    "# print [item for item, count in collections.Counter(itemID).items() if count > 1]"
   ]
  },
  {
   "cell_type": "code",
   "execution_count": 21,
   "metadata": {
    "collapsed": true
   },
   "outputs": [],
   "source": [
    "target_path = '/media/intel/m2/imgEvo'\n",
    "try:\n",
    "    os.mkdir(target_path)\n",
    "except:\n",
    "    pass\n",
    "seller_paths = [os.path.join(target_path, re.sub('[\\W_]+', '00', x)) for x in seller_name_list]"
   ]
  },
  {
   "cell_type": "code",
   "execution_count": 22,
   "metadata": {
    "collapsed": true
   },
   "outputs": [],
   "source": [
    "def image_seller_path(itemID, image_location, seller_path):\n",
    "    ori_tar_pair = []\n",
    "    img_folder_name = [x for x in os.listdir(image_location) if x != 'none']\n",
    "    img_folder_path = [os.path.join(image_location, x) for x in img_folder_name]\n",
    "    for i in range(len(img_folder_path)):\n",
    "        folder_path = img_folder_path[i]\n",
    "        if os.path.isfile(os.path.join(folder_path, 'large')):\n",
    "            oriname = 'large'\n",
    "        elif os.path.isfile(os.path.join(folder_path, 'large.jpg')):\n",
    "            oriname = 'large.jpg'\n",
    "        elif os.path.isfile(os.path.join(folder_path, 'tiny')):\n",
    "            oriname = 'tiny'\n",
    "        elif os.path.isfile(os.path.join(folder_path, 'tiny.jpg')):\n",
    "            oriname = 'tiny.jpg'\n",
    "        else:\n",
    "            oriname = ''\n",
    "        if oriname:\n",
    "            img_ori_path = os.path.join(folder_path, oriname)\n",
    "            img_tar_path = os.path.join(seller_path,\n",
    "                                        itemID + 'X' + img_folder_name[i]\n",
    "                                        + oriname.split('.')[0])\n",
    "            ori_tar_pair.append([img_ori_path, img_tar_path])\n",
    "    return ori_tar_pair"
   ]
  },
  {
   "cell_type": "code",
   "execution_count": 23,
   "metadata": {},
   "outputs": [
    {
     "name": "stdout",
     "output_type": "stream",
     "text": [
      "208.974720955 106159\n"
     ]
    }
   ],
   "source": [
    "time0 = time.time()\n",
    "uniq_item_count = len(itemID)\n",
    "img_count = 0\n",
    "for i in xrange(uniq_item_count):\n",
    "    if not os.path.isdir(image_location[i]):\n",
    "        continue\n",
    "    if not os.path.isdir(seller_paths[i]):\n",
    "        os.makedirs(seller_paths[i])\n",
    "    ori_tar_cp_res = image_seller_path(itemID[i], image_location[i],\n",
    "                                       seller_paths[i])\n",
    "    for (img_ori_path, img_tar_path) in ori_tar_cp_res:\n",
    "        copy2(img_ori_path, img_tar_path)\n",
    "        img_count += 1\n",
    "print time.time() - time0, img_count"
   ]
  },
  {
   "cell_type": "code",
   "execution_count": null,
   "metadata": {
    "collapsed": true
   },
   "outputs": [],
   "source": []
  },
  {
   "cell_type": "code",
   "execution_count": 1,
   "metadata": {
    "collapsed": true
   },
   "outputs": [],
   "source": [
    "import pandas as pd\n",
    "import re\n",
    "import os\n",
    "import json\n",
    "import time\n",
    "from shutil import copy2\n",
    "from shutil import copyfile\n",
    "import shutil\n",
    "from PIL import Image"
   ]
  },
  {
   "cell_type": "code",
   "execution_count": 2,
   "metadata": {},
   "outputs": [
    {
     "data": {
      "text/plain": [
       "904037"
      ]
     },
     "execution_count": 2,
     "metadata": {},
     "output_type": "execute_result"
    }
   ],
   "source": [
    "data = pd.read_json('evolution.json', orient='index', dtype={'itemID':str})\n",
    "\n",
    "len(data)"
   ]
  },
  {
   "cell_type": "code",
   "execution_count": 3,
   "metadata": {},
   "outputs": [],
   "source": [
    "data['dayID'] = data.itemID.apply(lambda x: x[8:])"
   ]
  },
  {
   "cell_type": "code",
   "execution_count": 4,
   "metadata": {
    "collapsed": true
   },
   "outputs": [],
   "source": [
    "data = data[data.img.notnull()]"
   ]
  },
  {
   "cell_type": "code",
   "execution_count": 5,
   "metadata": {
    "collapsed": true
   },
   "outputs": [],
   "source": [
    "data = data.sort_index()"
   ]
  },
  {
   "cell_type": "code",
   "execution_count": 6,
   "metadata": {
    "collapsed": true
   },
   "outputs": [],
   "source": [
    "f_date = lambda x: x[:4] + '-' + x[4:6] + '-' + x[6:]\n",
    "data['date'] = data.date.astype(str).apply(f_date)"
   ]
  },
  {
   "cell_type": "code",
   "execution_count": 7,
   "metadata": {
    "collapsed": true
   },
   "outputs": [],
   "source": [
    "root_path = '/media/intel/m2/evolution/'"
   ]
  },
  {
   "cell_type": "code",
   "execution_count": 8,
   "metadata": {},
   "outputs": [],
   "source": [
    "data['image_location'] = root_path + data.date + '/' + data.img"
   ]
  },
  {
   "cell_type": "code",
   "execution_count": 9,
   "metadata": {},
   "outputs": [],
   "source": [
    "f_path = lambda x: '/'.join(x.split('/')[:-2])\n",
    "data['image_location'] = data.image_location.apply(f_path)"
   ]
  },
  {
   "cell_type": "code",
   "execution_count": 10,
   "metadata": {
    "collapsed": true
   },
   "outputs": [],
   "source": [
    "data2 = data.copy()"
   ]
  },
  {
   "cell_type": "code",
   "execution_count": null,
   "metadata": {
    "collapsed": true
   },
   "outputs": [],
   "source": []
  },
  {
   "cell_type": "markdown",
   "metadata": {},
   "source": [
    "### seller identification"
   ]
  },
  {
   "cell_type": "code",
   "execution_count": 33,
   "metadata": {
    "collapsed": true
   },
   "outputs": [],
   "source": [
    "data2 = data2[data2.seller.notnull()]"
   ]
  },
  {
   "cell_type": "code",
   "execution_count": 61,
   "metadata": {},
   "outputs": [],
   "source": [
    "target_path = '/media/intel/m2/imgEvo'\n",
    "try:\n",
    "    os.makedirs(target_path)\n",
    "except:\n",
    "    pass\n",
    "\n",
    "data2['seller_name'] = data2.seller.apply(lambda x: os.path.join(target_path, re.sub('[\\W_]+', '00', x)))\n",
    "\n",
    "valid_item_img = set()\n",
    "for index, row in data2.iterrows():\n",
    "    img_f = row.image_location\n",
    "    if not os.path.isdir(img_f):\n",
    "        continue\n",
    "    for img_index in os.listdir(img_f):\n",
    "        if img_index == 'none':\n",
    "            continue\n",
    "        if (row.seller, row.title, row.dayID, img_index) not in valid_item_img:\n",
    "            if os.path.isfile(os.path.join(img_f, img_index, 'large')):\n",
    "                oriname = 'large'\n",
    "            elif os.path.isfile(os.path.join(img_f, img_index, 'large.jpg')):\n",
    "                oriname = 'large.jpg'\n",
    "                '''\n",
    "                elif os.path.isfile(os.path.join(img_f, img_index, 'tiny')):\n",
    "                    oriname = 'tiny'\n",
    "                elif os.path.isfile(os.path.join(img_f, img_index, 'tiny.jpg')):\n",
    "                    oriname = 'tiny.jpg'\n",
    "                '''\n",
    "            else:\n",
    "                continue\n",
    "            img_path = os.path.join(img_f, img_index, oriname)\n",
    "            try:\n",
    "                img = Image.open(img_path)\n",
    "                img.load()\n",
    "                img.close()\n",
    "            except IOError:\n",
    "                img.close()\n",
    "                continue        \n",
    "            if not os.path.isdir(row.seller_name):\n",
    "                os.makedirs(row.seller_name)\n",
    "            tar_file = os.path.join(row.seller_name, img_f.split('/')[-1] + 'xxxx' + img_index)\n",
    "            i = 0\n",
    "            while os.path.isfile(\"%sxxxx%d.jpg\" % (tar_file, i)):\n",
    "                i += 1\n",
    "            copyfile(img_path, \"%sxxxx%d.jpg\" % (tar_file, i))\n",
    "            valid_item_img.add((row.seller, row.title, row.dayID, img_index))"
   ]
  },
  {
   "cell_type": "code",
   "execution_count": null,
   "metadata": {
    "collapsed": true
   },
   "outputs": [],
   "source": []
  },
  {
   "cell_type": "code",
   "execution_count": 62,
   "metadata": {
    "collapsed": true
   },
   "outputs": [],
   "source": [
    "target_path = '/media/intel/m2/imgEvodedup'\n",
    "try:\n",
    "    os.mkdir(target_path)\n",
    "except:\n",
    "    pass\n",
    "\n",
    "data2['seller_name'] = data2.seller.apply(lambda x: os.path.join(target_path, re.sub('[\\W_]+', '00', x)))\n",
    "\n",
    "for index, row in data2.iterrows():\n",
    "    img_f = row.image_location\n",
    "    if not os.path.isdir(img_f):\n",
    "        continue\n",
    "    for img_index in os.listdir(img_f):\n",
    "        if img_index == 'none':\n",
    "            continue\n",
    "        if os.path.isfile(os.path.join(img_f, img_index, 'large')):\n",
    "            oriname = 'large'\n",
    "        elif os.path.isfile(os.path.join(img_f, img_index, 'large.jpg')):\n",
    "            oriname = 'large.jpg'\n",
    "            '''\n",
    "            elif os.path.isfile(os.path.join(img_f, img_index, 'tiny')):\n",
    "                oriname = 'tiny'\n",
    "            elif os.path.isfile(os.path.join(img_f, img_index, 'tiny.jpg')):\n",
    "                oriname = 'tiny.jpg'\n",
    "            '''\n",
    "        else:\n",
    "            continue\n",
    "        img_path = os.path.join(img_f, img_index, oriname)\n",
    "        try:\n",
    "            img = Image.open(img_path)\n",
    "            img.load()\n",
    "            img.close()\n",
    "        except IOError:\n",
    "            img.close()\n",
    "            continue        \n",
    "        if not os.path.isdir(row.seller_name):\n",
    "            os.makedirs(row.seller_name)\n",
    "        tar_file = os.path.join(row.seller_name, img_f.split('/')[-1] + 'xxxx' + img_index)\n",
    "        i = 0\n",
    "        while os.path.isfile(\"%sxxxx%d.jpg\" % (tar_file, i)):\n",
    "            i += 1\n",
    "        copyfile(img_path, \"%sxxxx%d.jpg\" % (tar_file, i))"
   ]
  },
  {
   "cell_type": "code",
   "execution_count": 63,
   "metadata": {
    "collapsed": true
   },
   "outputs": [],
   "source": [
    "import hashlib\n",
    "def md5sum(filename, blocksize=65536):\n",
    "    hash = hashlib.md5()\n",
    "    with open(filename, \"rb\") as f:\n",
    "        for block in iter(lambda: f.read(blocksize), b\"\"):\n",
    "            hash.update(block)\n",
    "    return hash.hexdigest()"
   ]
  },
  {
   "cell_type": "code",
   "execution_count": 64,
   "metadata": {
    "scrolled": true
   },
   "outputs": [],
   "source": [
    "root_dir = '/media/intel/m2/imgEvodedup'\n",
    "seller_name = [os.path.join(root_dir, x) for x in os.listdir(root_dir)]\n",
    "for seller_folder in set(seller_name):\n",
    "    filenames = map(lambda x: os.path.join(seller_folder, x), os.listdir(seller_folder))\n",
    "    md5value = {}\n",
    "    for filename in filenames:\n",
    "        md5curr = md5sum(filename)\n",
    "        if md5curr in md5value:\n",
    "            os.remove(filename)\n",
    "        else:\n",
    "            md5value[md5curr] = filename"
   ]
  },
  {
   "cell_type": "code",
   "execution_count": null,
   "metadata": {
    "collapsed": true
   },
   "outputs": [],
   "source": []
  },
  {
   "cell_type": "markdown",
   "metadata": {},
   "source": [
    "### category prediction"
   ]
  },
  {
   "cell_type": "code",
   "execution_count": 12,
   "metadata": {
    "collapsed": true
   },
   "outputs": [],
   "source": [
    "data3 = data.copy()"
   ]
  },
  {
   "cell_type": "code",
   "execution_count": 13,
   "metadata": {
    "collapsed": true
   },
   "outputs": [],
   "source": [
    "data3 = data3[data3.cat.notnull()]"
   ]
  },
  {
   "cell_type": "code",
   "execution_count": 14,
   "metadata": {},
   "outputs": [
    {
     "data": {
      "text/plain": [
       "array([u'Services', u'Fraud Related', u'Electronics', u'Digital Goods',\n",
       "       u'Guides &amp; Tutorials', u'Drugs', u'Counterfeits',\n",
       "       u'Miscellaneous', u'Erotica', u'Lab Supplies', u'Weapons',\n",
       "       u'Jewellery', u'Custom Listings', u'Drug Paraphernalia'], dtype=object)"
      ]
     },
     "execution_count": 14,
     "metadata": {},
     "output_type": "execute_result"
    }
   ],
   "source": [
    "data3.cat.unique()"
   ]
  },
  {
   "cell_type": "code",
   "execution_count": 15,
   "metadata": {
    "collapsed": true
   },
   "outputs": [],
   "source": [
    "target_path = '/media/intel/m2/imgEvoCat'\n",
    "try:\n",
    "    os.mkdir(target_path)\n",
    "except:\n",
    "    pass\n",
    "\n",
    "data3['cat_name'] = data3.cat.apply(lambda x: os.path.join(target_path, re.sub('[\\W_]+', '00', x)))\n",
    "\n",
    "for index, row in data3.iterrows():\n",
    "    img_f = row.image_location\n",
    "    if not os.path.isdir(img_f):\n",
    "        continue\n",
    "    for img_index in os.listdir(img_f):\n",
    "        if img_index == 'none':\n",
    "            continue\n",
    "        if os.path.isfile(os.path.join(img_f, img_index, 'large')):\n",
    "            oriname = 'large'\n",
    "        elif os.path.isfile(os.path.join(img_f, img_index, 'large.jpg')):\n",
    "            oriname = 'large.jpg'\n",
    "            '''\n",
    "            elif os.path.isfile(os.path.join(img_f, img_index, 'tiny')):\n",
    "                oriname = 'tiny'\n",
    "            elif os.path.isfile(os.path.join(img_f, img_index, 'tiny.jpg')):\n",
    "                oriname = 'tiny.jpg'\n",
    "            '''\n",
    "        else:\n",
    "            continue\n",
    "        img_path = os.path.join(img_f, img_index, oriname)\n",
    "        try:\n",
    "            img = Image.open(img_path)\n",
    "            img.load()\n",
    "            img.close()\n",
    "        except IOError:\n",
    "            img.close()\n",
    "            continue        \n",
    "        if not os.path.isdir(row.cat_name):\n",
    "            os.makedirs(row.cat_name)\n",
    "        tar_file = os.path.join(row.cat_name, img_f.split('/')[-1] + 'xxxx' + img_index)\n",
    "        i = 0\n",
    "        while os.path.isfile(\"%sxxxx%d.jpg\" % (tar_file, i)):\n",
    "            i += 1\n",
    "        copyfile(img_path, \"%sxxxx%d.jpg\" % (tar_file, i))"
   ]
  },
  {
   "cell_type": "code",
   "execution_count": 16,
   "metadata": {
    "collapsed": true
   },
   "outputs": [],
   "source": [
    "import hashlib\n",
    "def md5sum(filename, blocksize=65536):\n",
    "    hash = hashlib.md5()\n",
    "    with open(filename, \"rb\") as f:\n",
    "        for block in iter(lambda: f.read(blocksize), b\"\"):\n",
    "            hash.update(block)\n",
    "    return hash.hexdigest()"
   ]
  },
  {
   "cell_type": "code",
   "execution_count": 17,
   "metadata": {
    "collapsed": true
   },
   "outputs": [],
   "source": [
    "root_dir = '/media/intel/m2/imgEvoCat'\n",
    "seller_name = [os.path.join(root_dir, x) for x in os.listdir(root_dir)]\n",
    "for seller_folder in set(seller_name):\n",
    "    filenames = map(lambda x: os.path.join(seller_folder, x), os.listdir(seller_folder))\n",
    "    md5value = {}\n",
    "    for filename in filenames:\n",
    "        md5curr = md5sum(filename)\n",
    "        if md5curr in md5value:\n",
    "            os.remove(filename)\n",
    "        else:\n",
    "            md5value[md5curr] = filename"
   ]
  },
  {
   "cell_type": "code",
   "execution_count": null,
   "metadata": {
    "collapsed": true
   },
   "outputs": [],
   "source": []
  }
 ],
 "metadata": {
  "kernelspec": {
   "display_name": "Python 3",
   "language": "python",
   "name": "python3"
  },
  "language_info": {
   "codemirror_mode": {
    "name": "ipython",
    "version": 3
   },
   "file_extension": ".py",
   "mimetype": "text/x-python",
   "name": "python",
   "nbconvert_exporter": "python",
   "pygments_lexer": "ipython3",
   "version": "3.7.6"
  }
 },
 "nbformat": 4,
 "nbformat_minor": 1
}
