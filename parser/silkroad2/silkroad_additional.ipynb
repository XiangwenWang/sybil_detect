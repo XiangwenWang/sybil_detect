{
 "cells": [
  {
   "cell_type": "code",
   "execution_count": 29,
   "metadata": {},
   "outputs": [],
   "source": [
    "import pandas as pd\n",
    "import re\n",
    "import os\n",
    "import json\n",
    "import time\n",
    "from shutil import copy2, rmtree\n",
    "import shutil\n",
    "import hashlib"
   ]
  },
  {
   "cell_type": "code",
   "execution_count": 8,
   "metadata": {
    "scrolled": true
   },
   "outputs": [
    {
     "data": {
      "text/plain": [
       "363968"
      ]
     },
     "execution_count": 8,
     "metadata": {},
     "output_type": "execute_result"
    }
   ],
   "source": [
    "data = pd.read_json('silkroad2.json', orient='index')\n",
    "\n",
    "len(data)"
   ]
  },
  {
   "cell_type": "code",
   "execution_count": 3,
   "metadata": {},
   "outputs": [
    {
     "data": {
      "text/plain": [
       "1332"
      ]
     },
     "execution_count": 3,
     "metadata": {},
     "output_type": "execute_result"
    }
   ],
   "source": [
    "len(data.seller.unique())"
   ]
  },
  {
   "cell_type": "code",
   "execution_count": 4,
   "metadata": {},
   "outputs": [
    {
     "data": {
      "text/plain": [
       "35114"
      ]
     },
     "execution_count": 4,
     "metadata": {},
     "output_type": "execute_result"
    }
   ],
   "source": [
    "# df_unique = data.drop_duplicates(['seller', 'title'])\n",
    "#　len(df_unique)"
   ]
  },
  {
   "cell_type": "code",
   "execution_count": 21,
   "metadata": {
    "collapsed": true
   },
   "outputs": [],
   "source": [
    "data = data[data.img.notnull()].copy()"
   ]
  },
  {
   "cell_type": "code",
   "execution_count": 19,
   "metadata": {},
   "outputs": [],
   "source": [
    "d = [int(x.split('|')[0].split('/')[-1]) for x in data.img.values]"
   ]
  },
  {
   "cell_type": "code",
   "execution_count": 22,
   "metadata": {},
   "outputs": [],
   "source": [
    "data['itemID'] = d"
   ]
  },
  {
   "cell_type": "code",
   "execution_count": 25,
   "metadata": {},
   "outputs": [],
   "source": [
    "# df_unique = df_unique[df_unique.img.notnull()]\n",
    "# df_unique = df_unique.sort_index()"
   ]
  },
  {
   "cell_type": "code",
   "execution_count": 42,
   "metadata": {},
   "outputs": [],
   "source": [
    "root_path = '/media/intel/m2/silkroad2/'\n",
    "data['image_location'] = root_path + data.date.astype(str) + data.img"
   ]
  },
  {
   "cell_type": "code",
   "execution_count": 39,
   "metadata": {
    "collapsed": true
   },
   "outputs": [],
   "source": [
    "# seller_name_list = list(df_unique.seller)\n",
    "\n",
    "# image_location = list(df_unique.image_location)\n",
    "\n",
    "# itemID = [hashlib.md5(x).hexdigest() for x in df_unique.index.astype(str)]"
   ]
  },
  {
   "cell_type": "code",
   "execution_count": 35,
   "metadata": {},
   "outputs": [],
   "source": [
    "data['seller_path'] = data.seller.apply(lambda x: os.path.join(target_path, x))"
   ]
  },
  {
   "cell_type": "code",
   "execution_count": 36,
   "metadata": {},
   "outputs": [
    {
     "data": {
      "text/plain": [
       "329280"
      ]
     },
     "execution_count": 36,
     "metadata": {},
     "output_type": "execute_result"
    }
   ],
   "source": [
    "len(data)"
   ]
  },
  {
   "cell_type": "code",
   "execution_count": 47,
   "metadata": {
    "scrolled": false
   },
   "outputs": [
    {
     "name": "stdout",
     "output_type": "stream",
     "text": [
      "20000 40000 60000 80000 100000 120000 140000 160000 180000 200000 220000 240000 260000 280000 300000 320000\n"
     ]
    }
   ],
   "source": [
    "product_count = 0\n",
    "img_count = []\n",
    "for index, row in data.iterrows():\n",
    "    product_count += 1\n",
    "    if product_count % 20000 == 0:\n",
    "        print product_count,\n",
    "    img_f, _ = row.image_location.split('######')\n",
    "    if not os.path.isfile(img_f):\n",
    "        continue\n",
    "    with open(img_f) as fp:\n",
    "        image_files = fp.read()\n",
    "    imgbase64 = re.findall(\"content: url\\('data:image/jpeg;base64,(.*)'\", image_files)\n",
    "    img_count.append(len(imgbase64))"
   ]
  },
  {
   "cell_type": "code",
   "execution_count": 48,
   "metadata": {},
   "outputs": [
    {
     "data": {
      "text/plain": [
       "Counter({0: 937, 1: 133093, 2: 14420, 3: 7493, 4: 8397})"
      ]
     },
     "execution_count": 48,
     "metadata": {},
     "output_type": "execute_result"
    }
   ],
   "source": [
    "from collections import Counter\n",
    "Counter(img_count)"
   ]
  },
  {
   "cell_type": "code",
   "execution_count": 50,
   "metadata": {},
   "outputs": [
    {
     "name": "stdout",
     "output_type": "stream",
     "text": [
      "20000 40000 60000 80000 100000 120000 140000 160000 180000 200000 220000 240000 260000 280000 300000 320000\n"
     ]
    }
   ],
   "source": [
    "target_path = '/media/intel/m2/imgs/SilkRoad2'\n",
    "try:\n",
    "    rmtree(target_path)\n",
    "except:\n",
    "    pass\n",
    "try:\n",
    "    os.mkdir(target_path)\n",
    "except:\n",
    "    pass\n",
    "product_count = 0\n",
    "for index, row in data.iterrows():\n",
    "    product_count += 1\n",
    "    if product_count % 20000 == 0:\n",
    "        print product_count,\n",
    "    img_f, _ = row.image_location.split('######')\n",
    "    if not os.path.isfile(img_f):\n",
    "        continue\n",
    "    with open(img_f) as fp:\n",
    "        image_files = fp.read()\n",
    "    imgbase64 = re.findall(\"content: url\\('data:image/jpeg;base64,(.*)'\", image_files)\n",
    "    for i in range(len(imgbase64)):\n",
    "        if not os.path.isdir(row.seller_path):\n",
    "            os.makedirs(row.seller_path)\n",
    "        image_name = \"%d%2.2d.jpg\" % (row.itemID, i)\n",
    "        image_tar_path = os.path.join(row.seller_path, image_name)\n",
    "        with open(image_tar_path, \"wb\") as fp:\n",
    "            fp.write(imgbase64[i].decode('base64'))"
   ]
  },
  {
   "cell_type": "code",
   "execution_count": 49,
   "metadata": {},
   "outputs": [
    {
     "data": {
      "text/plain": [
       "btc_price                                                   0.012044\n",
       "date                                             2014-11-06 00:00:00\n",
       "description        Zopiclone (Imovane) 7.5mg - Tablet MINIMUM ORD...\n",
       "img                /images/52496|medium.css######image_52496_1_me...\n",
       "itemID                                                         52496\n",
       "seller                                                     fierydice\n",
       "seller_location                                               Canada\n",
       "ship_to                                                    Worldwide\n",
       "title                                      Zopiclone (Imovane) 7.5mg\n",
       "seller_path                 /media/intel/m2/imgs/SilkRoad2/fierydice\n",
       "image_location     /media/intel/m2/silkroad2/2014-11-06/images/52...\n",
       "Name: /media/intel/94109A3F109A286E/silkroad2/2014-11-06/items/zopiclone-imovane-7-5mg, dtype: object"
      ]
     },
     "execution_count": 49,
     "metadata": {},
     "output_type": "execute_result"
    }
   ],
   "source": [
    "row"
   ]
  }
 ],
 "metadata": {
  "kernelspec": {
   "display_name": "Python 3",
   "language": "python",
   "name": "python3"
  },
  "language_info": {
   "codemirror_mode": {
    "name": "ipython",
    "version": 3
   },
   "file_extension": ".py",
   "mimetype": "text/x-python",
   "name": "python",
   "nbconvert_exporter": "python",
   "pygments_lexer": "ipython3",
   "version": "3.7.6"
  }
 },
 "nbformat": 4,
 "nbformat_minor": 1
}
