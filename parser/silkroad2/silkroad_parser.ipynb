{
 "cells": [
  {
   "cell_type": "code",
   "execution_count": 1,
   "metadata": {
    "collapsed": true
   },
   "outputs": [],
   "source": [
    "import os\n",
    "import re\n",
    "import json\n",
    "import pandas as pd\n",
    "import time"
   ]
  },
  {
   "cell_type": "code",
   "execution_count": 2,
   "metadata": {
    "collapsed": true
   },
   "outputs": [],
   "source": [
    "def get_text(text):\n",
    "    text = re.sub('\\n+', ' ', text.strip())\n",
    "    text = re.sub('\\r+', ' ', text.strip())\n",
    "    text = ' '.join(map(lambda x: x.strip(), text.strip().split('\\r\\n')))\n",
    "    clean_text, start = '', 0\n",
    "    while text:\n",
    "        text = text.split('<', 1)\n",
    "        clean_text += text[0]\n",
    "        if len(text) < 2:\n",
    "            break\n",
    "        tmp = text[1].split('>', 1)\n",
    "        if len(tmp) < 2:\n",
    "            break\n",
    "        text = tmp[1]\n",
    "    clean_text = unicode(clean_text, errors='ignore')\n",
    "    clean_text = re.sub(' +', ' ', clean_text)\n",
    "    return clean_text.strip()"
   ]
  },
  {
   "cell_type": "code",
   "execution_count": 3,
   "metadata": {},
   "outputs": [],
   "source": [
    "def parse_item(filename):\n",
    "    with open(filename) as fp:\n",
    "        content = fp.read()\n",
    "    \n",
    "    if not content:\n",
    "        return None\n",
    "    title_pattern = re.compile('<title>(.*?)</title>', re.DOTALL)\n",
    "    title = re.findall(title_pattern, content)\n",
    "    if not title:\n",
    "        return None\n",
    "    if get_text(title[0]) == u'we rise again':\n",
    "        return None\n",
    "    img_file = re.findall('<link href=\"(/images/.*?.css)\"', content)\n",
    "    if len(img_file):\n",
    "        img_file = img_file[0]\n",
    "\n",
    "    main_content_pattern = re.compile('<div class=\"body\".*?>(.*)<a name=\"shipping\">',\n",
    "                                      re.DOTALL)\n",
    "    main_content = re.findall(main_content_pattern, content)\n",
    "    if main_content:\n",
    "        main_content = main_content[0]\n",
    "    else:\n",
    "        return None\n",
    "\n",
    "    image_names = re.findall('<div class=\"item_image main\" id=\"(.*?)\">', main_content)\n",
    "    if len(image_names):\n",
    "        image_name = image_names[0]\n",
    "    else:\n",
    "        image_name = None\n",
    "    if len(image_names) > 1:\n",
    "        print \"%d images\" % len(image_names), filename\n",
    "        \n",
    "    title = re.findall('<h2>(.*)</h2>', main_content)[0]\n",
    "\n",
    "    price_pattern = re.compile('<div class=\"price_big\">(.*?)</div>', re.DOTALL)\n",
    "    price_btc = re.findall(price_pattern, main_content)[0]\n",
    "    price_btc = re.sub(r\"[^.0-9]\", \"\", price_btc)\n",
    "    price_btc = float(price_btc) if price_btc else None\n",
    "        \n",
    "    seller = re.findall('vendor: <a.*?>(.*?)</a>', main_content)[0]\n",
    "    ships_from = re.findall('ships from: (.*)', main_content)[0]\n",
    "    ships_to = re.findall('ships to: (.*)', main_content)[0]\n",
    "    ships_from = get_text(ships_from)\n",
    "    ships_to = get_text(ships_to)\n",
    "\n",
    "    text_pattern = re.compile('<div class=\"container container_large\".*?>(.*)', re.DOTALL)\n",
    "    raw_text = re.findall(text_pattern, main_content)[0]\n",
    "    text = get_text(raw_text)\n",
    "    \n",
    "    iteminfo = {}\n",
    "    iteminfo['title'] = title\n",
    "    iteminfo['itemID'] = filename.split('?', 1)[0]\n",
    "    iteminfo['btc_price'] = price_btc\n",
    "    iteminfo['description'] = text\n",
    "    iteminfo['seller'] = seller\n",
    "    iteminfo['ship_to'] = ships_to\n",
    "    iteminfo['seller_location'] = ships_from\n",
    "    iteminfo['date'] = filename.split('/')[-3]\n",
    "    if img_file and image_name:\n",
    "        iteminfo['img'] = img_file + '######' + image_name\n",
    "    else:\n",
    "        iteminfo['img'] = None\n",
    "    \n",
    "    return iteminfo"
   ]
  },
  {
   "cell_type": "code",
   "execution_count": 7,
   "metadata": {
    "collapsed": true
   },
   "outputs": [],
   "source": [
    "root_path = '/media/intel/m2/silkroad2/'\n",
    "item = {}\n",
    "error_count = 0"
   ]
  },
  {
   "cell_type": "code",
   "execution_count": 8,
   "metadata": {
    "collapsed": true
   },
   "outputs": [],
   "source": [
    "def analyze(path):\n",
    "    # print path\n",
    "    global error_count\n",
    "    webpage_folder_path = os.path.join(path, 'items')\n",
    "    filenames = map(lambda wp: os.path.join(path, 'items', wp),\n",
    "                    os.listdir(webpage_folder_path))\n",
    "    for filename in filenames:\n",
    "        try:\n",
    "            if filename.split('?')[0] not in item:\n",
    "                parse_res = parse_item(filename)\n",
    "                if parse_res is not None:\n",
    "                    item[filename.split('?')[0]] = parse_res               \n",
    "        except:\n",
    "            print filename\n",
    "            error_count += 1\n",
    "            if error_count == 10000:\n",
    "                break\n",
    "    return 1"
   ]
  },
  {
   "cell_type": "code",
   "execution_count": 9,
   "metadata": {
    "collapsed": true
   },
   "outputs": [],
   "source": [
    "paths = [os.path.join(root_path, x) for x in os.listdir(root_path)]\n",
    "paths = sorted(paths)"
   ]
  },
  {
   "cell_type": "code",
   "execution_count": 10,
   "metadata": {},
   "outputs": [
    {
     "name": "stdout",
     "output_type": "stream",
     "text": [
      "236.942967892\n"
     ]
    }
   ],
   "source": [
    "time0 = time.time()\n",
    "for path in paths:\n",
    "    if os.path.isdir(path):\n",
    "        analyze(path)\n",
    "        if error_count == 10000:\n",
    "            break\n",
    "print time.time() - time0"
   ]
  },
  {
   "cell_type": "code",
   "execution_count": 11,
   "metadata": {},
   "outputs": [
    {
     "name": "stdout",
     "output_type": "stream",
     "text": [
      "363968\n"
     ]
    }
   ],
   "source": [
    "print len(item)\n",
    "with open('silkroad2.json', 'w') as fp:\n",
    "    json.dump(item, fp)"
   ]
  },
  {
   "cell_type": "code",
   "execution_count": 29,
   "metadata": {},
   "outputs": [],
   "source": [
    "import pandas as pd\n",
    "import re\n",
    "import os\n",
    "import json\n",
    "import time\n",
    "from shutil import copy2\n",
    "import shutil\n",
    "import hashlib"
   ]
  },
  {
   "cell_type": "code",
   "execution_count": 13,
   "metadata": {
    "scrolled": true
   },
   "outputs": [
    {
     "data": {
      "text/plain": [
       "363968"
      ]
     },
     "execution_count": 13,
     "metadata": {},
     "output_type": "execute_result"
    }
   ],
   "source": [
    "data = pd.read_json('silkroad2.json', orient='index')\n",
    "\n",
    "len(data)"
   ]
  },
  {
   "cell_type": "code",
   "execution_count": 75,
   "metadata": {},
   "outputs": [
    {
     "data": {
      "text/plain": [
       "1332"
      ]
     },
     "execution_count": 75,
     "metadata": {},
     "output_type": "execute_result"
    }
   ],
   "source": [
    "len(data.seller.unique())"
   ]
  },
  {
   "cell_type": "code",
   "execution_count": 72,
   "metadata": {},
   "outputs": [
    {
     "data": {
      "text/plain": [
       "35114"
      ]
     },
     "execution_count": 72,
     "metadata": {},
     "output_type": "execute_result"
    }
   ],
   "source": [
    "df_unique = data.drop_duplicates(['seller', 'title'])\n",
    "\n",
    "len(df_unique)"
   ]
  },
  {
   "cell_type": "code",
   "execution_count": 73,
   "metadata": {},
   "outputs": [],
   "source": [
    "df_unique = df_unique[df_unique.img.notnull()]\n",
    "df_unique = df_unique.sort_index()"
   ]
  },
  {
   "cell_type": "code",
   "execution_count": 23,
   "metadata": {},
   "outputs": [],
   "source": [
    "root_path = '/media/intel/m2/silkroad2/'\n",
    "df_unique['image_location'] = root_path + df_unique.date.astype(str) + df_unique.img"
   ]
  },
  {
   "cell_type": "code",
   "execution_count": 39,
   "metadata": {
    "collapsed": true
   },
   "outputs": [],
   "source": [
    "seller_name_list = list(df_unique.seller)\n",
    "\n",
    "image_location = list(df_unique.image_location)\n",
    "\n",
    "itemID = [hashlib.md5(x).hexdigest() for x in df_unique.index.astype(str)]"
   ]
  },
  {
   "cell_type": "code",
   "execution_count": 66,
   "metadata": {
    "collapsed": true
   },
   "outputs": [],
   "source": [
    "target_path = '/media/intel/m2/imgSilkRoad'\n",
    "try:\n",
    "    os.mkdir(target_path)\n",
    "except:\n",
    "    pass\n",
    "seller_paths = [os.path.join(target_path, re.sub('[\\W_]+', '00', x)) for x in seller_name_list]"
   ]
  },
  {
   "cell_type": "code",
   "execution_count": 67,
   "metadata": {},
   "outputs": [],
   "source": [
    "def image_seller_path(itemID, image_location, seller_path):\n",
    "    image_location, _ = image_location.split('######')\n",
    "    if not os.path.isfile(image_location):\n",
    "        return 0\n",
    "    with open(image_location) as fp:\n",
    "        image_files = fp.read()\n",
    "    imgbase64 = re.findall(\"content: url\\('data:image/jpeg;base64,(.*)'\", image_files)\n",
    "    for i in range(len(imgbase64)):\n",
    "        image_name = itemID + str(i) + '.jpg'\n",
    "        image_tar_path = os.path.join(seller_path, image_name)\n",
    "        with open(image_tar_path, \"wb\") as fp:\n",
    "            fp.write(imgbase64[i].decode('base64'))\n",
    "    return len(imgbase64)"
   ]
  },
  {
   "cell_type": "code",
   "execution_count": 68,
   "metadata": {},
   "outputs": [
    {
     "name": "stdout",
     "output_type": "stream",
     "text": [
      "14.3879628181 11414\n"
     ]
    }
   ],
   "source": [
    "time0 = time.time()\n",
    "uniq_item_count = len(itemID)\n",
    "img_count = 0\n",
    "for i in xrange(uniq_item_count):\n",
    "    if not os.path.isdir(seller_paths[i]):\n",
    "        os.makedirs(seller_paths[i])\n",
    "    img_count += image_seller_path(itemID[i], image_location[i],\n",
    "                                       seller_paths[i])\n",
    "print time.time() - time0, img_count"
   ]
  },
  {
   "cell_type": "code",
   "execution_count": 71,
   "metadata": {},
   "outputs": [],
   "source": [
    "for seller_path in set(seller_paths):\n",
    "    if os.path.isdir(seller_path):\n",
    "        if not len(os.listdir(seller_path)):\n",
    "            os.rmdir(seller_path)"
   ]
  },
  {
   "cell_type": "code",
   "execution_count": null,
   "metadata": {
    "collapsed": true
   },
   "outputs": [],
   "source": []
  }
 ],
 "metadata": {
  "kernelspec": {
   "display_name": "Python 3",
   "language": "python",
   "name": "python3"
  },
  "language_info": {
   "codemirror_mode": {
    "name": "ipython",
    "version": 3
   },
   "file_extension": ".py",
   "mimetype": "text/x-python",
   "name": "python",
   "nbconvert_exporter": "python",
   "pygments_lexer": "ipython3",
   "version": "3.7.6"
  }
 },
 "nbformat": 4,
 "nbformat_minor": 1
}
