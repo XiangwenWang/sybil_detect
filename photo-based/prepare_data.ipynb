{
 "cells": [
  {
   "cell_type": "code",
   "execution_count": 2,
   "metadata": {
    "collapsed": true
   },
   "outputs": [],
   "source": [
    "import os\n",
    "from shutil import copyfile, rmtree\n",
    "from random import shuffle, seed\n",
    "from json import dump as savejson"
   ]
  },
  {
   "cell_type": "code",
   "execution_count": 3,
   "metadata": {
    "collapsed": true
   },
   "outputs": [],
   "source": [
    "def prepare_training_validation(setname, threshold, root_dir='/image/data/folder/',\n",
    "                                random_seed=2017, step=1):\n",
    "    \n",
    "    seed(random_seed)\n",
    "    \n",
    "    step_name = ['', 'pseudo_pairing', 'roc']    \n",
    "    origin_path = os.path.join(root_dir,'imgs', setname)\n",
    "    dataset_path = os.path.join(root_dir, 'train_test_data', step_name[step], setname)\n",
    "    target_root = os.path.join(dataset_path, '%d' % threshold)\n",
    "    target_path1 = os.path.join(target_root, 'train')\n",
    "    target_path2 = os.path.join(target_root, 'test')\n",
    "    \n",
    "    try:\n",
    "        os.mkdir(dataset_path)\n",
    "    except:\n",
    "        pass\n",
    "    \n",
    "    try:\n",
    "        rmtree(target_root)\n",
    "    except:\n",
    "        pass\n",
    "\n",
    "    try:\n",
    "        os.mkdir(target_root)\n",
    "        os.mkdir(target_path1)\n",
    "        os.mkdir(target_path2)\n",
    "    except OSError:\n",
    "        pass\n",
    "\n",
    "    print \"set name: %s\" % setname\n",
    "    print \"total seller: %d\" % len(os.listdir(origin_path))\n",
    "    print \"threshold: %d images\" % threshold\n",
    "\n",
    "    sellernames = os.listdir(origin_path)\n",
    "    shuffle(sellernames)\n",
    "    distractor_ct = 0\n",
    "    sellername_dict = {'training_seller': [],\n",
    "                       'validation_seller': [],\n",
    "                       'pseudo_seller': [],\n",
    "                       'training_distractor': [],\n",
    "                       'validation_distractor': []}\n",
    "    for seller in sellernames:\n",
    "        seller_path = os.path.join(origin_path, seller)\n",
    "        seller_img_ct = len(os.listdir(seller_path))\n",
    "        if seller_img_ct < threshold:\n",
    "            continue\n",
    "        oripath = os.path.join(origin_path, seller)\n",
    "        imagefiles = os.listdir(oripath)\n",
    "        imagefiles = map(lambda x: os.path.join(oripath, x), imagefiles)\n",
    "        if seller_img_ct >= 2 * threshold:\n",
    "            tarpath1 = os.path.join(target_path1, seller)\n",
    "            os.mkdir(tarpath1)\n",
    "            tarpath2 = os.path.join(target_path2, seller)\n",
    "            os.mkdir(tarpath2)\n",
    "            shuffle(imagefiles)\n",
    "            halfimagenum = len(imagefiles) / 2\n",
    "            for image in imagefiles[:halfimagenum]:\n",
    "                copyfile(image, image.replace(oripath, tarpath1))\n",
    "            for image in imagefiles[halfimagenum:]:\n",
    "                copyfile(image, image.replace(oripath, tarpath2))\n",
    "            sellername_dict['training_seller'].append(seller)\n",
    "            sellername_dict['validation_seller'].append(seller)\n",
    "            sellername_dict['pseudo_seller'].append(seller)\n",
    "        else:\n",
    "            if distractor_ct % step == 0:\n",
    "                tarpath1 = os.path.join(target_path1, seller)\n",
    "                os.mkdir(tarpath1)\n",
    "                for image in imagefiles:\n",
    "                    copyfile(image, image.replace(oripath, tarpath1))\n",
    "                sellername_dict['training_seller'].append(seller)\n",
    "                sellername_dict['training_distractor'].append(seller)\n",
    "            else:\n",
    "                tarpath2 = os.path.join(target_path2, seller)\n",
    "                os.mkdir(tarpath2)\n",
    "                for image in imagefiles:\n",
    "                    copyfile(image, image.replace(oripath, tarpath2))\n",
    "                sellername_dict['validation_seller'].append(seller)\n",
    "                sellername_dict['validation_distractor'].append(seller)\n",
    "            distractor_ct += 1\n",
    "    \n",
    "    print \"valid seller: %d\" % (len(sellername_dict['training_distractor']) +\n",
    "                                len(sellername_dict['validation_distractor']) +\n",
    "                                len(sellername_dict['pseudo_seller']))\n",
    "    print \"training count: %d, validation count: %d\" % (len(sellername_dict['training_seller']),\n",
    "                                                        len(sellername_dict['validation_seller']))\n",
    "    print \"training distractor: %d, validation distractor: %d\" % (len(sellername_dict['training_distractor']),\n",
    "                                                                  len(sellername_dict['validation_distractor']))\n",
    "    print \"pseudo seller: %d\" % len(sellername_dict['pseudo_seller'])\n",
    "    with open(os.path.join(target_root, 'seller_name.json'), 'w') as fp:\n",
    "        savejson(sellername_dict, fp)\n",
    "    return [target_root, target_path1, target_path2]\n",
    "\n",
    "\n",
    "def prepare_train_val_label(setname, tar_path, random_seed=201710):\n",
    "    seed(random_seed)\n",
    "    \n",
    "    train_sellers = sorted(os.listdir(tar_path[1]))\n",
    "    train_classes = [os.path.join(tar_path[1], x) for x in train_sellers]\n",
    "    data_path = os.path.join(tar_path[0], 'labels')\n",
    "    try:\n",
    "        rmtree(data_path)\n",
    "    except:\n",
    "        pass\n",
    "    try:\n",
    "        os.makedirs(data_path)\n",
    "    except:\n",
    "        pass\n",
    "    \n",
    "    with open(os.path.join(data_path, 'train.txt'), 'w') as fp_tr:\n",
    "        for i in range(len(train_classes)):\n",
    "            cl = train_classes[i]\n",
    "            imgs = [os.path.join(cl, x) for x in sorted(os.listdir(cl))]\n",
    "            for img in imgs:\n",
    "                fp_tr.write(\"%s %d\\n\" % (img, i))\n",
    "    \n",
    "    class_name = {}\n",
    "    train_class_ct = len(train_classes)\n",
    "    for i in xrange(train_class_ct):\n",
    "        class_name[i] = train_classes[i].split('/')[-1]\n",
    "            \n",
    "    test_cl_index = []\n",
    "    test_sellers = sorted(os.listdir(tar_path[2]))\n",
    "    test_classes = [os.path.join(tar_path[2], x) for x in test_sellers]\n",
    "    exist_test_class_ct, new_test_class_ct = 0, 0\n",
    "    for i in range(len(test_sellers)):\n",
    "        if test_sellers[i] in train_sellers:\n",
    "            exist_test_class_ct += 1\n",
    "            test_cl_index.append(train_sellers.index(test_sellers[i]))\n",
    "        else:\n",
    "            index_i = train_class_ct + new_test_class_ct\n",
    "            new_test_class_ct += 1\n",
    "            class_name[index_i] = test_sellers[i]\n",
    "            test_cl_index.append(index_i)\n",
    "\n",
    "    print \"train class: %d, test class: %d\" % (train_class_ct, exist_test_class_ct + new_test_class_ct)\n",
    "    print \"exist test class: %d, new test class: %d\" % (exist_test_class_ct, new_test_class_ct)\n",
    "    with open(os.path.join(data_path, 'class_name.json'), 'w') as fp:\n",
    "        savejson(class_name, fp)\n",
    "\n",
    "    with open(os.path.join(data_path, 'test.txt'), 'w') as fp:\n",
    "        for i in range(len(test_cl_index)):\n",
    "            cl = test_classes[i]\n",
    "            imgs = [os.path.join(cl, x) for x in os.listdir(cl)]\n",
    "            for img in imgs:\n",
    "                fp.write(\"%s %d\\n\" % (img, test_cl_index[i]))\n",
    "    print 'Data preparation finished.'\n",
    "\n",
    "\n",
    "def prepare_data(setname, threshold, step=1, random_seed=None):\n",
    "    if random_seed is None:\n",
    "        tar_path = prepare_training_validation(setname, threshold, step=step)\n",
    "        print('----')\n",
    "        prepare_train_val_label(setname, tar_path)\n",
    "        print('---------------')\n",
    "    else:\n",
    "        tar_path = prepare_training_validation(setname, threshold, step=step, random_seed=random_seed)\n",
    "        print('----')\n",
    "        prepare_train_val_label(setname, tar_path, random_seed=random_seed)\n",
    "        print('---------------')    "
   ]
  },
  {
   "cell_type": "code",
   "execution_count": 27,
   "metadata": {
    "scrolled": true
   },
   "outputs": [
    {
     "name": "stdout",
     "output_type": "stream",
     "text": [
      "set name: Agora\n",
      "total seller: 2836\n",
      "threshold: 10 images\n",
      "valid seller: 1617\n",
      "training count: 1617, validation count: 1020\n",
      "training distractor: 597, validation distractor: 0\n",
      "pseudo seller: 1020\n",
      "----\n",
      "train class: 1617, test class: 1020\n",
      "exist test class: 1020, new test class: 0\n",
      "Data preparation finished.\n",
      "---------------\n"
     ]
    }
   ],
   "source": [
    "prepare_data('Agora', 10)"
   ]
  },
  {
   "cell_type": "code",
   "execution_count": 28,
   "metadata": {},
   "outputs": [
    {
     "name": "stdout",
     "output_type": "stream",
     "text": [
      "set name: Agora\n",
      "total seller: 2836\n",
      "threshold: 20 images\n",
      "valid seller: 1020\n",
      "training count: 1020, validation count: 480\n",
      "training distractor: 540, validation distractor: 0\n",
      "pseudo seller: 480\n",
      "----\n",
      "train class: 1020, test class: 480\n",
      "exist test class: 480, new test class: 0\n",
      "Data preparation finished.\n",
      "---------------\n"
     ]
    }
   ],
   "source": [
    "prepare_data('Agora', 20)"
   ]
  },
  {
   "cell_type": "code",
   "execution_count": 29,
   "metadata": {},
   "outputs": [
    {
     "name": "stdout",
     "output_type": "stream",
     "text": [
      "set name: Agora\n",
      "total seller: 2836\n",
      "threshold: 40 images\n",
      "valid seller: 480\n",
      "training count: 480, validation count: 161\n",
      "training distractor: 319, validation distractor: 0\n",
      "pseudo seller: 161\n",
      "----\n",
      "train class: 480, test class: 161\n",
      "exist test class: 161, new test class: 0\n",
      "Data preparation finished.\n",
      "---------------\n"
     ]
    }
   ],
   "source": [
    "prepare_data('Agora', 40)"
   ]
  },
  {
   "cell_type": "code",
   "execution_count": 30,
   "metadata": {},
   "outputs": [
    {
     "name": "stdout",
     "output_type": "stream",
     "text": [
      "set name: Evolution\n",
      "total seller: 3635\n",
      "threshold: 10 images\n",
      "valid seller: 1773\n",
      "training count: 1773, validation count: 1093\n",
      "training distractor: 680, validation distractor: 0\n",
      "pseudo seller: 1093\n",
      "----\n",
      "train class: 1773, test class: 1093\n",
      "exist test class: 1093, new test class: 0\n",
      "Data preparation finished.\n",
      "---------------\n"
     ]
    }
   ],
   "source": [
    "prepare_data('Evolution', 10)"
   ]
  },
  {
   "cell_type": "code",
   "execution_count": 31,
   "metadata": {
    "scrolled": false
   },
   "outputs": [
    {
     "name": "stdout",
     "output_type": "stream",
     "text": [
      "set name: Evolution\n",
      "total seller: 3635\n",
      "threshold: 20 images\n",
      "valid seller: 1093\n",
      "training count: 1093, validation count: 519\n",
      "training distractor: 574, validation distractor: 0\n",
      "pseudo seller: 519\n",
      "----\n",
      "train class: 1093, test class: 519\n",
      "exist test class: 519, new test class: 0\n",
      "Data preparation finished.\n",
      "---------------\n"
     ]
    }
   ],
   "source": [
    "prepare_data('Evolution', 20)"
   ]
  },
  {
   "cell_type": "code",
   "execution_count": 32,
   "metadata": {},
   "outputs": [
    {
     "name": "stdout",
     "output_type": "stream",
     "text": [
      "set name: Evolution\n",
      "total seller: 3635\n",
      "threshold: 40 images\n",
      "valid seller: 519\n",
      "training count: 519, validation count: 197\n",
      "training distractor: 322, validation distractor: 0\n",
      "pseudo seller: 197\n",
      "----\n",
      "train class: 519, test class: 197\n",
      "exist test class: 197, new test class: 0\n",
      "Data preparation finished.\n",
      "---------------\n"
     ]
    }
   ],
   "source": [
    "prepare_data('Evolution', 40)"
   ]
  },
  {
   "cell_type": "code",
   "execution_count": 63,
   "metadata": {},
   "outputs": [
    {
     "name": "stdout",
     "output_type": "stream",
     "text": [
      "set name: SilkRoad2\n",
      "total seller: 1172\n",
      "threshold: 10 images\n",
      "valid seller: 663\n",
      "training count: 663, validation count: 415\n",
      "training distractor: 248, validation distractor: 0\n",
      "pseudo seller: 415\n",
      "----\n",
      "train class: 663, test class: 415\n",
      "exist test class: 415, new test class: 0\n",
      "Data preparation finished.\n",
      "---------------\n"
     ]
    }
   ],
   "source": [
    "prepare_data('SilkRoad2', 10)"
   ]
  },
  {
   "cell_type": "code",
   "execution_count": 64,
   "metadata": {},
   "outputs": [
    {
     "name": "stdout",
     "output_type": "stream",
     "text": [
      "set name: SilkRoad2\n",
      "total seller: 1172\n",
      "threshold: 20 images\n",
      "valid seller: 415\n",
      "training count: 415, validation count: 211\n",
      "training distractor: 204, validation distractor: 0\n",
      "pseudo seller: 211\n",
      "----\n",
      "train class: 415, test class: 211\n",
      "exist test class: 211, new test class: 0\n",
      "Data preparation finished.\n",
      "---------------\n"
     ]
    }
   ],
   "source": [
    "prepare_data('SilkRoad2', 20)"
   ]
  },
  {
   "cell_type": "code",
   "execution_count": 65,
   "metadata": {},
   "outputs": [
    {
     "name": "stdout",
     "output_type": "stream",
     "text": [
      "set name: SilkRoad2\n",
      "total seller: 1172\n",
      "threshold: 40 images\n",
      "valid seller: 211\n",
      "training count: 211, validation count: 76\n",
      "training distractor: 135, validation distractor: 0\n",
      "pseudo seller: 76\n",
      "----\n",
      "train class: 211, test class: 76\n",
      "exist test class: 76, new test class: 0\n",
      "Data preparation finished.\n",
      "---------------\n"
     ]
    }
   ],
   "source": [
    "prepare_data('SilkRoad2', 40)"
   ]
  },
  {
   "cell_type": "code",
   "execution_count": 36,
   "metadata": {},
   "outputs": [
    {
     "name": "stdout",
     "output_type": "stream",
     "text": [
      "set name: Agora\n",
      "total seller: 2836\n",
      "threshold: 10 images\n",
      "valid seller: 1617\n",
      "training count: 1319, validation count: 1318\n",
      "training distractor: 299, validation distractor: 298\n",
      "pseudo seller: 1020\n",
      "----\n",
      "train class: 1319, test class: 1318\n",
      "exist test class: 1020, new test class: 298\n",
      "Data preparation finished.\n",
      "---------------\n"
     ]
    }
   ],
   "source": [
    "prepare_data('Agora', 10, step=2)"
   ]
  },
  {
   "cell_type": "code",
   "execution_count": 37,
   "metadata": {},
   "outputs": [
    {
     "name": "stdout",
     "output_type": "stream",
     "text": [
      "set name: Agora\n",
      "total seller: 2836\n",
      "threshold: 20 images\n",
      "valid seller: 1020\n",
      "training count: 750, validation count: 750\n",
      "training distractor: 270, validation distractor: 270\n",
      "pseudo seller: 480\n",
      "----\n",
      "train class: 750, test class: 750\n",
      "exist test class: 480, new test class: 270\n",
      "Data preparation finished.\n",
      "---------------\n"
     ]
    }
   ],
   "source": [
    "prepare_data('Agora', 20, step=2)"
   ]
  },
  {
   "cell_type": "code",
   "execution_count": 38,
   "metadata": {},
   "outputs": [
    {
     "name": "stdout",
     "output_type": "stream",
     "text": [
      "set name: Agora\n",
      "total seller: 2836\n",
      "threshold: 40 images\n",
      "valid seller: 480\n",
      "training count: 321, validation count: 320\n",
      "training distractor: 160, validation distractor: 159\n",
      "pseudo seller: 161\n",
      "----\n",
      "train class: 321, test class: 320\n",
      "exist test class: 161, new test class: 159\n",
      "Data preparation finished.\n",
      "---------------\n"
     ]
    }
   ],
   "source": [
    "prepare_data('Agora', 40, step=2)"
   ]
  },
  {
   "cell_type": "code",
   "execution_count": 39,
   "metadata": {},
   "outputs": [
    {
     "name": "stdout",
     "output_type": "stream",
     "text": [
      "set name: Evolution\n",
      "total seller: 3635\n",
      "threshold: 10 images\n",
      "valid seller: 1773\n",
      "training count: 1433, validation count: 1433\n",
      "training distractor: 340, validation distractor: 340\n",
      "pseudo seller: 1093\n",
      "----\n",
      "train class: 1433, test class: 1433\n",
      "exist test class: 1093, new test class: 340\n",
      "Data preparation finished.\n",
      "---------------\n"
     ]
    }
   ],
   "source": [
    "prepare_data('Evolution', 10, step=2)"
   ]
  },
  {
   "cell_type": "code",
   "execution_count": 40,
   "metadata": {},
   "outputs": [
    {
     "name": "stdout",
     "output_type": "stream",
     "text": [
      "set name: Evolution\n",
      "total seller: 3635\n",
      "threshold: 20 images\n",
      "valid seller: 1093\n",
      "training count: 806, validation count: 806\n",
      "training distractor: 287, validation distractor: 287\n",
      "pseudo seller: 519\n",
      "----\n",
      "train class: 806, test class: 806\n",
      "exist test class: 519, new test class: 287\n",
      "Data preparation finished.\n",
      "---------------\n"
     ]
    }
   ],
   "source": [
    "prepare_data('Evolution', 20, step=2)"
   ]
  },
  {
   "cell_type": "code",
   "execution_count": 41,
   "metadata": {},
   "outputs": [
    {
     "name": "stdout",
     "output_type": "stream",
     "text": [
      "set name: Evolution\n",
      "total seller: 3635\n",
      "threshold: 40 images\n",
      "valid seller: 519\n",
      "training count: 358, validation count: 358\n",
      "training distractor: 161, validation distractor: 161\n",
      "pseudo seller: 197\n",
      "----\n",
      "train class: 358, test class: 358\n",
      "exist test class: 197, new test class: 161\n",
      "Data preparation finished.\n",
      "---------------\n"
     ]
    }
   ],
   "source": [
    "prepare_data('Evolution', 40, step=2)"
   ]
  },
  {
   "cell_type": "code",
   "execution_count": 66,
   "metadata": {},
   "outputs": [
    {
     "name": "stdout",
     "output_type": "stream",
     "text": [
      "set name: SilkRoad2\n",
      "total seller: 1172\n",
      "threshold: 10 images\n",
      "valid seller: 663\n",
      "training count: 539, validation count: 539\n",
      "training distractor: 124, validation distractor: 124\n",
      "pseudo seller: 415\n",
      "----\n",
      "train class: 539, test class: 539\n",
      "exist test class: 415, new test class: 124\n",
      "Data preparation finished.\n",
      "---------------\n"
     ]
    }
   ],
   "source": [
    "prepare_data('SilkRoad2', 10, step=2)"
   ]
  },
  {
   "cell_type": "code",
   "execution_count": 67,
   "metadata": {},
   "outputs": [
    {
     "name": "stdout",
     "output_type": "stream",
     "text": [
      "set name: SilkRoad2\n",
      "total seller: 1172\n",
      "threshold: 20 images\n",
      "valid seller: 415\n",
      "training count: 313, validation count: 313\n",
      "training distractor: 102, validation distractor: 102\n",
      "pseudo seller: 211\n",
      "----\n",
      "train class: 313, test class: 313\n",
      "exist test class: 211, new test class: 102\n",
      "Data preparation finished.\n",
      "---------------\n"
     ]
    }
   ],
   "source": [
    "prepare_data('SilkRoad2', 20, step=2)"
   ]
  },
  {
   "cell_type": "code",
   "execution_count": 68,
   "metadata": {
    "scrolled": true
   },
   "outputs": [
    {
     "name": "stdout",
     "output_type": "stream",
     "text": [
      "set name: SilkRoad2\n",
      "total seller: 1172\n",
      "threshold: 40 images\n",
      "valid seller: 211\n",
      "training count: 144, validation count: 143\n",
      "training distractor: 68, validation distractor: 67\n",
      "pseudo seller: 76\n",
      "----\n",
      "train class: 144, test class: 143\n",
      "exist test class: 76, new test class: 67\n",
      "Data preparation finished.\n",
      "---------------\n"
     ]
    }
   ],
   "source": [
    "prepare_data('SilkRoad2', 40, step=2)"
   ]
  },
  {
   "cell_type": "code",
   "execution_count": 69,
   "metadata": {},
   "outputs": [
    {
     "name": "stdout",
     "output_type": "stream",
     "text": [
      "set name: Agora_dedup\n",
      "total seller: 2836\n",
      "threshold: 10 images\n",
      "valid seller: 926\n",
      "training count: 926, validation count: 408\n",
      "training distractor: 518, validation distractor: 0\n",
      "pseudo seller: 408\n",
      "----\n",
      "train class: 926, test class: 408\n",
      "exist test class: 408, new test class: 0\n",
      "Data preparation finished.\n",
      "---------------\n"
     ]
    }
   ],
   "source": [
    "prepare_data('Agora_dedup', 10)"
   ]
  },
  {
   "cell_type": "code",
   "execution_count": 70,
   "metadata": {},
   "outputs": [
    {
     "name": "stdout",
     "output_type": "stream",
     "text": [
      "set name: Agora_dedup\n",
      "total seller: 2836\n",
      "threshold: 20 images\n",
      "valid seller: 408\n",
      "training count: 408, validation count: 137\n",
      "training distractor: 271, validation distractor: 0\n",
      "pseudo seller: 137\n",
      "----\n",
      "train class: 408, test class: 137\n",
      "exist test class: 137, new test class: 0\n",
      "Data preparation finished.\n",
      "---------------\n"
     ]
    }
   ],
   "source": [
    "prepare_data('Agora_dedup', 20)"
   ]
  },
  {
   "cell_type": "code",
   "execution_count": 11,
   "metadata": {},
   "outputs": [
    {
     "name": "stdout",
     "output_type": "stream",
     "text": [
      "set name: Agora_dedup\n",
      "total seller: 2836\n",
      "threshold: 40 images\n",
      "valid seller: 137\n",
      "training count: 137, validation count: 45\n",
      "training distractor: 92, validation distractor: 0\n",
      "pseudo seller: 45\n",
      "----\n",
      "train class: 137, test class: 45\n",
      "exist test class: 45, new test class: 0\n",
      "Data preparation finished.\n",
      "---------------\n"
     ]
    }
   ],
   "source": [
    "prepare_data('Agora_dedup', 40, random_seed=2017121605)"
   ]
  },
  {
   "cell_type": "code",
   "execution_count": 5,
   "metadata": {},
   "outputs": [
    {
     "name": "stdout",
     "output_type": "stream",
     "text": [
      "set name: Evolution_dedup\n",
      "total seller: 3635\n",
      "threshold: 10 images\n",
      "valid seller: 989\n",
      "training count: 989, validation count: 443\n",
      "training distractor: 546, validation distractor: 0\n",
      "pseudo seller: 443\n",
      "----\n",
      "train class: 989, test class: 443\n",
      "exist test class: 443, new test class: 0\n",
      "Data preparation finished.\n",
      "---------------\n"
     ]
    }
   ],
   "source": [
    "prepare_data('Evolution_dedup', 10, random_seed=2017121605)"
   ]
  },
  {
   "cell_type": "code",
   "execution_count": 73,
   "metadata": {},
   "outputs": [
    {
     "name": "stdout",
     "output_type": "stream",
     "text": [
      "set name: Evolution_dedup\n",
      "total seller: 3635\n",
      "threshold: 20 images\n",
      "valid seller: 443\n",
      "training count: 443, validation count: 155\n",
      "training distractor: 288, validation distractor: 0\n",
      "pseudo seller: 155\n",
      "----\n",
      "train class: 443, test class: 155\n",
      "exist test class: 155, new test class: 0\n",
      "Data preparation finished.\n",
      "---------------\n"
     ]
    }
   ],
   "source": [
    "prepare_data('Evolution_dedup', 20)"
   ]
  },
  {
   "cell_type": "code",
   "execution_count": 74,
   "metadata": {},
   "outputs": [
    {
     "name": "stdout",
     "output_type": "stream",
     "text": [
      "set name: Evolution_dedup\n",
      "total seller: 3635\n",
      "threshold: 40 images\n",
      "valid seller: 155\n",
      "training count: 155, validation count: 47\n",
      "training distractor: 108, validation distractor: 0\n",
      "pseudo seller: 47\n",
      "----\n",
      "train class: 155, test class: 47\n",
      "exist test class: 47, new test class: 0\n",
      "Data preparation finished.\n",
      "---------------\n"
     ]
    }
   ],
   "source": [
    "prepare_data('Evolution_dedup', 40)"
   ]
  },
  {
   "cell_type": "code",
   "execution_count": 75,
   "metadata": {},
   "outputs": [
    {
     "name": "stdout",
     "output_type": "stream",
     "text": [
      "set name: SilkRoad2_dedup\n",
      "total seller: 1172\n",
      "threshold: 10 images\n",
      "valid seller: 414\n",
      "training count: 414, validation count: 181\n",
      "training distractor: 233, validation distractor: 0\n",
      "pseudo seller: 181\n",
      "----\n",
      "train class: 414, test class: 181\n",
      "exist test class: 181, new test class: 0\n",
      "Data preparation finished.\n",
      "---------------\n"
     ]
    }
   ],
   "source": [
    "prepare_data('SilkRoad2_dedup', 10)"
   ]
  },
  {
   "cell_type": "code",
   "execution_count": 76,
   "metadata": {},
   "outputs": [
    {
     "name": "stdout",
     "output_type": "stream",
     "text": [
      "set name: SilkRoad2_dedup\n",
      "total seller: 1172\n",
      "threshold: 20 images\n",
      "valid seller: 181\n",
      "training count: 181, validation count: 59\n",
      "training distractor: 122, validation distractor: 0\n",
      "pseudo seller: 59\n",
      "----\n",
      "train class: 181, test class: 59\n",
      "exist test class: 59, new test class: 0\n",
      "Data preparation finished.\n",
      "---------------\n"
     ]
    }
   ],
   "source": [
    "prepare_data('SilkRoad2_dedup', 20)"
   ]
  },
  {
   "cell_type": "code",
   "execution_count": 77,
   "metadata": {},
   "outputs": [
    {
     "name": "stdout",
     "output_type": "stream",
     "text": [
      "set name: SilkRoad2_dedup\n",
      "total seller: 1172\n",
      "threshold: 40 images\n",
      "valid seller: 59\n",
      "training count: 59, validation count: 24\n",
      "training distractor: 35, validation distractor: 0\n",
      "pseudo seller: 24\n",
      "----\n",
      "train class: 59, test class: 24\n",
      "exist test class: 24, new test class: 0\n",
      "Data preparation finished.\n",
      "---------------\n"
     ]
    }
   ],
   "source": [
    "prepare_data('SilkRoad2_dedup', 40)"
   ]
  },
  {
   "cell_type": "code",
   "execution_count": 78,
   "metadata": {},
   "outputs": [
    {
     "name": "stdout",
     "output_type": "stream",
     "text": [
      "set name: Agora_dedup\n",
      "total seller: 2836\n",
      "threshold: 10 images\n",
      "valid seller: 926\n",
      "training count: 667, validation count: 667\n",
      "training distractor: 259, validation distractor: 259\n",
      "pseudo seller: 408\n",
      "----\n",
      "train class: 667, test class: 667\n",
      "exist test class: 408, new test class: 259\n",
      "Data preparation finished.\n",
      "---------------\n"
     ]
    }
   ],
   "source": [
    "prepare_data('Agora_dedup', 10, step=2)"
   ]
  },
  {
   "cell_type": "code",
   "execution_count": 79,
   "metadata": {},
   "outputs": [
    {
     "name": "stdout",
     "output_type": "stream",
     "text": [
      "set name: Agora_dedup\n",
      "total seller: 2836\n",
      "threshold: 20 images\n",
      "valid seller: 408\n",
      "training count: 273, validation count: 272\n",
      "training distractor: 136, validation distractor: 135\n",
      "pseudo seller: 137\n",
      "----\n",
      "train class: 273, test class: 272\n",
      "exist test class: 137, new test class: 135\n",
      "Data preparation finished.\n",
      "---------------\n"
     ]
    }
   ],
   "source": [
    "prepare_data('Agora_dedup', 20, step=2)"
   ]
  },
  {
   "cell_type": "code",
   "execution_count": 80,
   "metadata": {},
   "outputs": [
    {
     "name": "stdout",
     "output_type": "stream",
     "text": [
      "set name: Agora_dedup\n",
      "total seller: 2836\n",
      "threshold: 40 images\n",
      "valid seller: 137\n",
      "training count: 91, validation count: 91\n",
      "training distractor: 46, validation distractor: 46\n",
      "pseudo seller: 45\n",
      "----\n",
      "train class: 91, test class: 91\n",
      "exist test class: 45, new test class: 46\n",
      "Data preparation finished.\n",
      "---------------\n"
     ]
    }
   ],
   "source": [
    "prepare_data('Agora_dedup', 40, step=2)"
   ]
  },
  {
   "cell_type": "code",
   "execution_count": 81,
   "metadata": {},
   "outputs": [
    {
     "name": "stdout",
     "output_type": "stream",
     "text": [
      "set name: Evolution_dedup\n",
      "total seller: 3635\n",
      "threshold: 10 images\n",
      "valid seller: 989\n",
      "training count: 716, validation count: 716\n",
      "training distractor: 273, validation distractor: 273\n",
      "pseudo seller: 443\n",
      "----\n",
      "train class: 716, test class: 716\n",
      "exist test class: 443, new test class: 273\n",
      "Data preparation finished.\n",
      "---------------\n"
     ]
    }
   ],
   "source": [
    "prepare_data('Evolution_dedup', 10, step=2)"
   ]
  },
  {
   "cell_type": "code",
   "execution_count": 82,
   "metadata": {},
   "outputs": [
    {
     "name": "stdout",
     "output_type": "stream",
     "text": [
      "set name: Evolution_dedup\n",
      "total seller: 3635\n",
      "threshold: 20 images\n",
      "valid seller: 443\n",
      "training count: 299, validation count: 299\n",
      "training distractor: 144, validation distractor: 144\n",
      "pseudo seller: 155\n",
      "----\n",
      "train class: 299, test class: 299\n",
      "exist test class: 155, new test class: 144\n",
      "Data preparation finished.\n",
      "---------------\n"
     ]
    }
   ],
   "source": [
    "prepare_data('Evolution_dedup', 20, step=2)"
   ]
  },
  {
   "cell_type": "code",
   "execution_count": 83,
   "metadata": {},
   "outputs": [
    {
     "name": "stdout",
     "output_type": "stream",
     "text": [
      "set name: Evolution_dedup\n",
      "total seller: 3635\n",
      "threshold: 40 images\n",
      "valid seller: 155\n",
      "training count: 101, validation count: 101\n",
      "training distractor: 54, validation distractor: 54\n",
      "pseudo seller: 47\n",
      "----\n",
      "train class: 101, test class: 101\n",
      "exist test class: 47, new test class: 54\n",
      "Data preparation finished.\n",
      "---------------\n"
     ]
    }
   ],
   "source": [
    "prepare_data('Evolution_dedup', 40, step=2)"
   ]
  },
  {
   "cell_type": "code",
   "execution_count": 84,
   "metadata": {},
   "outputs": [
    {
     "name": "stdout",
     "output_type": "stream",
     "text": [
      "set name: SilkRoad2_dedup\n",
      "total seller: 1172\n",
      "threshold: 10 images\n",
      "valid seller: 414\n",
      "training count: 298, validation count: 297\n",
      "training distractor: 117, validation distractor: 116\n",
      "pseudo seller: 181\n",
      "----\n",
      "train class: 298, test class: 297\n",
      "exist test class: 181, new test class: 116\n",
      "Data preparation finished.\n",
      "---------------\n"
     ]
    }
   ],
   "source": [
    "prepare_data('SilkRoad2_dedup', 10, step=2)"
   ]
  },
  {
   "cell_type": "code",
   "execution_count": 85,
   "metadata": {},
   "outputs": [
    {
     "name": "stdout",
     "output_type": "stream",
     "text": [
      "set name: SilkRoad2_dedup\n",
      "total seller: 1172\n",
      "threshold: 20 images\n",
      "valid seller: 181\n",
      "training count: 120, validation count: 120\n",
      "training distractor: 61, validation distractor: 61\n",
      "pseudo seller: 59\n",
      "----\n",
      "train class: 120, test class: 120\n",
      "exist test class: 59, new test class: 61\n",
      "Data preparation finished.\n",
      "---------------\n"
     ]
    }
   ],
   "source": [
    "prepare_data('SilkRoad2_dedup', 20, step=2)"
   ]
  },
  {
   "cell_type": "code",
   "execution_count": 86,
   "metadata": {},
   "outputs": [
    {
     "name": "stdout",
     "output_type": "stream",
     "text": [
      "set name: SilkRoad2_dedup\n",
      "total seller: 1172\n",
      "threshold: 40 images\n",
      "valid seller: 59\n",
      "training count: 42, validation count: 41\n",
      "training distractor: 18, validation distractor: 17\n",
      "pseudo seller: 24\n",
      "----\n",
      "train class: 42, test class: 41\n",
      "exist test class: 24, new test class: 17\n",
      "Data preparation finished.\n",
      "---------------\n"
     ]
    }
   ],
   "source": [
    "prepare_data('SilkRoad2_dedup', 40, step=2)"
   ]
  },
  {
   "cell_type": "code",
   "execution_count": null,
   "metadata": {
    "collapsed": true
   },
   "outputs": [],
   "source": []
  }
 ],
 "metadata": {
  "kernelspec": {
   "display_name": "Python 2",
   "language": "python",
   "name": "python2"
  },
  "language_info": {
   "codemirror_mode": {
    "name": "ipython",
    "version": 2
   },
   "file_extension": ".py",
   "mimetype": "text/x-python",
   "name": "python",
   "nbconvert_exporter": "python",
   "pygments_lexer": "ipython2",
   "version": "2.7.14"
  }
 },
 "nbformat": 4,
 "nbformat_minor": 1
}
